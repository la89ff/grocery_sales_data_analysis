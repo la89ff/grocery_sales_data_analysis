{
 "cells": [
  {
   "cell_type": "markdown",
   "id": "9135976a",
   "metadata": {},
   "source": [
    "# Problem Statement:\n",
    "A grocery sales company is looking for patterns in its sales data regarding regions, sales reps, and product categories.\n",
    "Conduct an analysis to surface any notable patterns, particularly related to sales results."
   ]
  },
  {
   "cell_type": "markdown",
   "id": "100be87b",
   "metadata": {},
   "source": [
    "# Basic Deliverables:\n",
    "- Import at least two DataFrames\n",
    "- Do at least 1 merge\n",
    "- Cleaning datasets with explanations\n",
    "- At least 2 visualisations accompanied by descriptions of the business insights they communicate.\n",
    "\n",
    "Process:\n",
    "1. Clean the data with rationale-backed handling of null or missing values.\n",
    "2. Join the data sets together into a single DataFrame.\n",
    "3. Analyze sales results and supply chain logistics in relation to other data points of your choosing.\n",
    "\n",
    "Based on your analysis: Propose an hypothesis around patterns and correlations revealed during the analysis"
   ]
  },
  {
   "cell_type": "code",
   "execution_count": 52,
   "id": "78f0f6c7",
   "metadata": {},
   "outputs": [],
   "source": [
    "#import dependencies\n",
    "\n",
    "import pandas as pd\n",
    "import numpy as np\n",
    "from matplotlib import pyplot as plt"
   ]
  },
  {
   "cell_type": "markdown",
   "id": "aad99d37",
   "metadata": {},
   "source": [
    "# *Initial Framing Questions:*"
   ]
  },
  {
   "cell_type": "markdown",
   "id": "8add4c77",
   "metadata": {},
   "source": [
    "*What are the business objectives in performing this data analysis?*\n",
    "- Look for insights to inform new strategies to increase profitability and/or other opportunities for the business\n",
    "- Determine the levels and categories most and least profitable\n",
    "- Determine the high/low sales rep performers\n",
    "- Determine best/worst profitable customers\n",
    "- Determine highest performing product categories by Margin\n",
    "- Look for opportunities with volume/margin relationships"
   ]
  },
  {
   "cell_type": "markdown",
   "id": "83539015",
   "metadata": {},
   "source": [
    "# *Extract:*"
   ]
  },
  {
   "cell_type": "code",
   "execution_count": 2,
   "id": "b9a07166",
   "metadata": {},
   "outputs": [
    {
     "name": "stdout",
     "output_type": "stream",
     "text": [
      "\u001b[31mLF_Grocery.ipynb\u001b[m\u001b[m \u001b[31mcustomers.csv\u001b[m\u001b[m    \u001b[31msales.csv\u001b[m\u001b[m\r\n",
      "\u001b[31mcities.csv\u001b[m\u001b[m       \u001b[31mitem_master.csv\u001b[m\u001b[m  \u001b[31msales_rep.csv\u001b[m\u001b[m\r\n"
     ]
    }
   ],
   "source": [
    "#Show me the dataset files saved in the local folder\n",
    "!ls"
   ]
  },
  {
   "cell_type": "code",
   "execution_count": 3,
   "id": "b069dde4",
   "metadata": {},
   "outputs": [],
   "source": [
    "#load the relevant dataset files into memory\n",
    "#probably need all of the datasets as the frame is broad and opportunistic\n",
    "#cities & customers csv files required an extra encoding parameter to load\n",
    "cities = pd.read_csv('./cities.csv',encoding=\"ISO-8859-1\")\n",
    "customers = pd.read_csv('./customers.csv',encoding=\"ISO-8859-1\")\n",
    "item_master = pd.read_csv('./item_master.csv')\n",
    "sales = pd.read_csv('./sales.csv')\n",
    "sales_rep = pd.read_csv('./sales_rep.csv')"
   ]
  },
  {
   "cell_type": "markdown",
   "id": "2ce81087",
   "metadata": {},
   "source": [
    "# *Wrangle / Prepare:*"
   ]
  },
  {
   "cell_type": "markdown",
   "id": "1073db1b",
   "metadata": {},
   "source": [
    "### Dealing with nulls:"
   ]
  },
  {
   "cell_type": "markdown",
   "id": "bc4f43c0",
   "metadata": {},
   "source": [
    "**cities nulls:**"
   ]
  },
  {
   "cell_type": "code",
   "execution_count": 4,
   "id": "c5a2d039",
   "metadata": {
    "scrolled": false
   },
   "outputs": [
    {
     "name": "stdout",
     "output_type": "stream",
     "text": [
      "<class 'pandas.core.frame.DataFrame'>\n",
      "RangeIndex: 100 entries, 0 to 99\n",
      "Data columns (total 6 columns):\n",
      " #   Column     Non-Null Count  Dtype  \n",
      "---  ------     --------------  -----  \n",
      " 0   City       100 non-null    object \n",
      " 1   City Code  100 non-null    int64  \n",
      " 2   Region     100 non-null    object \n",
      " 3   Latitude   100 non-null    float64\n",
      " 4   Longitude  100 non-null    float64\n",
      " 5   Desc       99 non-null     object \n",
      "dtypes: float64(2), int64(1), object(3)\n",
      "memory usage: 4.8+ KB\n"
     ]
    }
   ],
   "source": [
    "#checking cities nulls\n",
    "cities.info()"
   ]
  },
  {
   "cell_type": "code",
   "execution_count": 5,
   "id": "31aab4e1",
   "metadata": {
    "scrolled": true
   },
   "outputs": [
    {
     "data": {
      "text/html": [
       "<div>\n",
       "<style scoped>\n",
       "    .dataframe tbody tr th:only-of-type {\n",
       "        vertical-align: middle;\n",
       "    }\n",
       "\n",
       "    .dataframe tbody tr th {\n",
       "        vertical-align: top;\n",
       "    }\n",
       "\n",
       "    .dataframe thead th {\n",
       "        text-align: right;\n",
       "    }\n",
       "</style>\n",
       "<table border=\"1\" class=\"dataframe\">\n",
       "  <thead>\n",
       "    <tr style=\"text-align: right;\">\n",
       "      <th></th>\n",
       "      <th>City</th>\n",
       "      <th>City Code</th>\n",
       "      <th>Region</th>\n",
       "      <th>Latitude</th>\n",
       "      <th>Longitude</th>\n",
       "      <th>Desc</th>\n",
       "    </tr>\n",
       "  </thead>\n",
       "  <tbody>\n",
       "    <tr>\n",
       "      <th>94</th>\n",
       "      <td>Yokohama</td>\n",
       "      <td>95</td>\n",
       "      <td>Japan</td>\n",
       "      <td>35.455592</td>\n",
       "      <td>139.572196</td>\n",
       "      <td>NaN</td>\n",
       "    </tr>\n",
       "  </tbody>\n",
       "</table>\n",
       "</div>"
      ],
      "text/plain": [
       "        City  City Code Region   Latitude   Longitude Desc\n",
       "94  Yokohama         95  Japan  35.455592  139.572196  NaN"
      ]
     },
     "metadata": {},
     "output_type": "display_data"
    },
    {
     "data": {
      "text/html": [
       "<div>\n",
       "<style scoped>\n",
       "    .dataframe tbody tr th:only-of-type {\n",
       "        vertical-align: middle;\n",
       "    }\n",
       "\n",
       "    .dataframe tbody tr th {\n",
       "        vertical-align: top;\n",
       "    }\n",
       "\n",
       "    .dataframe thead th {\n",
       "        text-align: right;\n",
       "    }\n",
       "</style>\n",
       "<table border=\"1\" class=\"dataframe\">\n",
       "  <thead>\n",
       "    <tr style=\"text-align: right;\">\n",
       "      <th></th>\n",
       "      <th>City</th>\n",
       "      <th>City Code</th>\n",
       "      <th>Region</th>\n",
       "      <th>Latitude</th>\n",
       "      <th>Longitude</th>\n",
       "      <th>Desc</th>\n",
       "    </tr>\n",
       "  </thead>\n",
       "  <tbody>\n",
       "    <tr>\n",
       "      <th>74</th>\n",
       "      <td>Madrid</td>\n",
       "      <td>75</td>\n",
       "      <td>Spain</td>\n",
       "      <td>40.416705</td>\n",
       "      <td>-3.703582</td>\n",
       "      <td>\"Madrid, ?rea metropolitana de Madrid y Corred...</td>\n",
       "    </tr>\n",
       "    <tr>\n",
       "      <th>66</th>\n",
       "      <td>Bergen</td>\n",
       "      <td>67</td>\n",
       "      <td>Nordic</td>\n",
       "      <td>60.394346</td>\n",
       "      <td>5.325885</td>\n",
       "      <td>\"Bergen, Bergen, Hordaland, NO\"</td>\n",
       "    </tr>\n",
       "    <tr>\n",
       "      <th>1</th>\n",
       "      <td>Los Angeles</td>\n",
       "      <td>2</td>\n",
       "      <td>USA</td>\n",
       "      <td>34.053678</td>\n",
       "      <td>-118.242702</td>\n",
       "      <td>\"Los Angeles, Los Angeles County, CA, US\"</td>\n",
       "    </tr>\n",
       "    <tr>\n",
       "      <th>9</th>\n",
       "      <td>San Jose</td>\n",
       "      <td>10</td>\n",
       "      <td>USA</td>\n",
       "      <td>37.343850</td>\n",
       "      <td>-121.883135</td>\n",
       "      <td>\"San Jos, Santa Clara County, CA, US\"</td>\n",
       "    </tr>\n",
       "    <tr>\n",
       "      <th>86</th>\n",
       "      <td>Cologne</td>\n",
       "      <td>87</td>\n",
       "      <td>Germany</td>\n",
       "      <td>50.957703</td>\n",
       "      <td>6.954953</td>\n",
       "      <td>\"Cologne, North Rhine-Westphalia, DE\"</td>\n",
       "    </tr>\n",
       "  </tbody>\n",
       "</table>\n",
       "</div>"
      ],
      "text/plain": [
       "           City  City Code   Region   Latitude   Longitude  \\\n",
       "74       Madrid         75    Spain  40.416705   -3.703582   \n",
       "66       Bergen         67   Nordic  60.394346    5.325885   \n",
       "1   Los Angeles          2      USA  34.053678 -118.242702   \n",
       "9      San Jose         10      USA  37.343850 -121.883135   \n",
       "86      Cologne         87  Germany  50.957703    6.954953   \n",
       "\n",
       "                                                 Desc  \n",
       "74  \"Madrid, ?rea metropolitana de Madrid y Corred...  \n",
       "66                    \"Bergen, Bergen, Hordaland, NO\"  \n",
       "1           \"Los Angeles, Los Angeles County, CA, US\"  \n",
       "9              \"San Jos, Santa Clara County, CA, US\"  \n",
       "86              \"Cologne, North Rhine-Westphalia, DE\"  "
      ]
     },
     "metadata": {},
     "output_type": "display_data"
    }
   ],
   "source": [
    "#there is only 1 null row in the cities.Desc column, lets see it compared to a sample\n",
    "display(cities[cities.Desc.isnull() == True])\n",
    "display(cities.sample(5))\n",
    "#it is just missing a city,state,country string which should be able to be derived from similar entries or the lat/long data"
   ]
  },
  {
   "cell_type": "code",
   "execution_count": 6,
   "id": "3f5e3fec",
   "metadata": {},
   "outputs": [
    {
     "data": {
      "text/html": [
       "<div>\n",
       "<style scoped>\n",
       "    .dataframe tbody tr th:only-of-type {\n",
       "        vertical-align: middle;\n",
       "    }\n",
       "\n",
       "    .dataframe tbody tr th {\n",
       "        vertical-align: top;\n",
       "    }\n",
       "\n",
       "    .dataframe thead th {\n",
       "        text-align: right;\n",
       "    }\n",
       "</style>\n",
       "<table border=\"1\" class=\"dataframe\">\n",
       "  <thead>\n",
       "    <tr style=\"text-align: right;\">\n",
       "      <th></th>\n",
       "      <th>City</th>\n",
       "      <th>City Code</th>\n",
       "      <th>Region</th>\n",
       "      <th>Latitude</th>\n",
       "      <th>Longitude</th>\n",
       "      <th>Desc</th>\n",
       "    </tr>\n",
       "  </thead>\n",
       "  <tbody>\n",
       "    <tr>\n",
       "      <th>93</th>\n",
       "      <td>Tokyo</td>\n",
       "      <td>94</td>\n",
       "      <td>Japan</td>\n",
       "      <td>35.690041</td>\n",
       "      <td>139.510395</td>\n",
       "      <td>\"Kanto, JP\"</td>\n",
       "    </tr>\n",
       "    <tr>\n",
       "      <th>94</th>\n",
       "      <td>Yokohama</td>\n",
       "      <td>95</td>\n",
       "      <td>Japan</td>\n",
       "      <td>35.455592</td>\n",
       "      <td>139.572196</td>\n",
       "      <td>NaN</td>\n",
       "    </tr>\n",
       "  </tbody>\n",
       "</table>\n",
       "</div>"
      ],
      "text/plain": [
       "        City  City Code Region   Latitude   Longitude         Desc\n",
       "93     Tokyo         94  Japan  35.690041  139.510395  \"Kanto, JP\"\n",
       "94  Yokohama         95  Japan  35.455592  139.572196          NaN"
      ]
     },
     "execution_count": 6,
     "metadata": {},
     "output_type": "execute_result"
    }
   ],
   "source": [
    "#index 93 and 94 are probably going to have the same 'Desc' data\n",
    "#verified with reverse geocoding with the lat/long that both are located in Kanto\n",
    "cities.iloc[93:95]"
   ]
  },
  {
   "cell_type": "code",
   "execution_count": 7,
   "id": "665e7627",
   "metadata": {},
   "outputs": [],
   "source": [
    "#overwrite the null in 'Desc' at index 94 with valid data of matching format\n",
    "cities.at[94,'Desc'] = '\"Kanto, JP\"'"
   ]
  },
  {
   "cell_type": "code",
   "execution_count": 8,
   "id": "2d0670ef",
   "metadata": {
    "scrolled": true
   },
   "outputs": [
    {
     "data": {
      "text/html": [
       "<div>\n",
       "<style scoped>\n",
       "    .dataframe tbody tr th:only-of-type {\n",
       "        vertical-align: middle;\n",
       "    }\n",
       "\n",
       "    .dataframe tbody tr th {\n",
       "        vertical-align: top;\n",
       "    }\n",
       "\n",
       "    .dataframe thead th {\n",
       "        text-align: right;\n",
       "    }\n",
       "</style>\n",
       "<table border=\"1\" class=\"dataframe\">\n",
       "  <thead>\n",
       "    <tr style=\"text-align: right;\">\n",
       "      <th></th>\n",
       "      <th>City</th>\n",
       "      <th>City Code</th>\n",
       "      <th>Region</th>\n",
       "      <th>Latitude</th>\n",
       "      <th>Longitude</th>\n",
       "      <th>Desc</th>\n",
       "    </tr>\n",
       "  </thead>\n",
       "  <tbody>\n",
       "    <tr>\n",
       "      <th>93</th>\n",
       "      <td>Tokyo</td>\n",
       "      <td>94</td>\n",
       "      <td>Japan</td>\n",
       "      <td>35.690041</td>\n",
       "      <td>139.510395</td>\n",
       "      <td>\"Kanto, JP\"</td>\n",
       "    </tr>\n",
       "    <tr>\n",
       "      <th>94</th>\n",
       "      <td>Yokohama</td>\n",
       "      <td>95</td>\n",
       "      <td>Japan</td>\n",
       "      <td>35.455592</td>\n",
       "      <td>139.572196</td>\n",
       "      <td>\"Kanto, JP\"</td>\n",
       "    </tr>\n",
       "  </tbody>\n",
       "</table>\n",
       "</div>"
      ],
      "text/plain": [
       "        City  City Code Region   Latitude   Longitude         Desc\n",
       "93     Tokyo         94  Japan  35.690041  139.510395  \"Kanto, JP\"\n",
       "94  Yokohama         95  Japan  35.455592  139.572196  \"Kanto, JP\""
      ]
     },
     "execution_count": 8,
     "metadata": {},
     "output_type": "execute_result"
    }
   ],
   "source": [
    "#checking\n",
    "cities.iloc[93:95]\n",
    "#looks good"
   ]
  },
  {
   "cell_type": "markdown",
   "id": "dd53f75c",
   "metadata": {},
   "source": [
    "**customers nulls:**"
   ]
  },
  {
   "cell_type": "code",
   "execution_count": 9,
   "id": "93e5c5da",
   "metadata": {
    "scrolled": true
   },
   "outputs": [
    {
     "name": "stdout",
     "output_type": "stream",
     "text": [
      "<class 'pandas.core.frame.DataFrame'>\n",
      "RangeIndex: 684 entries, 0 to 683\n",
      "Data columns (total 3 columns):\n",
      " #   Column           Non-Null Count  Dtype \n",
      "---  ------           --------------  ----- \n",
      " 0   Customer         684 non-null    object\n",
      " 1   Customer Number  684 non-null    int64 \n",
      " 2   City Code        684 non-null    int64 \n",
      "dtypes: int64(2), object(1)\n",
      "memory usage: 16.2+ KB\n"
     ]
    }
   ],
   "source": [
    "#checking customers nulls\n",
    "customers.info()\n",
    "#there are no nulls in this dataset"
   ]
  },
  {
   "cell_type": "markdown",
   "id": "6d14bdff",
   "metadata": {},
   "source": [
    "**item_master nulls:**"
   ]
  },
  {
   "cell_type": "code",
   "execution_count": 10,
   "id": "3f22cab0",
   "metadata": {
    "scrolled": true
   },
   "outputs": [
    {
     "name": "stdout",
     "output_type": "stream",
     "text": [
      "<class 'pandas.core.frame.DataFrame'>\n",
      "RangeIndex: 827 entries, 0 to 826\n",
      "Data columns (total 5 columns):\n",
      " #   Column             Non-Null Count  Dtype \n",
      "---  ------             --------------  ----- \n",
      " 0   Item Number        827 non-null    int64 \n",
      " 1   Product Group      827 non-null    object\n",
      " 2   Product Line       827 non-null    object\n",
      " 3   Product Sub Group  827 non-null    object\n",
      " 4   Product Type       827 non-null    object\n",
      "dtypes: int64(1), object(4)\n",
      "memory usage: 32.4+ KB\n"
     ]
    }
   ],
   "source": [
    "#checking item_master nulls\n",
    "item_master.info()\n",
    "#there are no nulls in this dataset"
   ]
  },
  {
   "cell_type": "markdown",
   "id": "9d6178b8",
   "metadata": {},
   "source": [
    "**sales nulls:**"
   ]
  },
  {
   "cell_type": "code",
   "execution_count": 11,
   "id": "1e0ec37b",
   "metadata": {
    "scrolled": true
   },
   "outputs": [
    {
     "name": "stdout",
     "output_type": "stream",
     "text": [
      "<class 'pandas.core.frame.DataFrame'>\n",
      "RangeIndex: 96466 entries, 0 to 96465\n",
      "Data columns (total 15 columns):\n",
      " #   Column                  Non-Null Count  Dtype  \n",
      "---  ------                  --------------  -----  \n",
      " 0   %KEY                    96466 non-null  int64  \n",
      " 1   Cost                    96466 non-null  float64\n",
      " 2   Customer Number         96466 non-null  int64  \n",
      " 3   Date                    96466 non-null  object \n",
      " 4   GrossSales              96466 non-null  float64\n",
      " 5   Invoice Date            96466 non-null  object \n",
      " 6   Invoice Number          96466 non-null  int64  \n",
      " 7   Item Desc               96466 non-null  object \n",
      " 8   Item Number             96466 non-null  int64  \n",
      " 9   Margin                  96466 non-null  float64\n",
      " 10  Order Number            96466 non-null  int64  \n",
      " 11  Promised Delivery Date  96466 non-null  object \n",
      " 12  Sales                   96466 non-null  float64\n",
      " 13  Sales Qty               96466 non-null  float64\n",
      " 14  Sales Rep Number        96466 non-null  int64  \n",
      "dtypes: float64(5), int64(6), object(4)\n",
      "memory usage: 11.0+ MB\n"
     ]
    }
   ],
   "source": [
    "#checking sales nulls\n",
    "sales.info()\n",
    "#there are no nulls in this dataset"
   ]
  },
  {
   "cell_type": "markdown",
   "id": "590a1e56",
   "metadata": {},
   "source": [
    "**sales_rep nulls:**"
   ]
  },
  {
   "cell_type": "code",
   "execution_count": 12,
   "id": "aab91bfd",
   "metadata": {
    "scrolled": false
   },
   "outputs": [
    {
     "name": "stdout",
     "output_type": "stream",
     "text": [
      "<class 'pandas.core.frame.DataFrame'>\n",
      "RangeIndex: 64 entries, 0 to 63\n",
      "Data columns (total 8 columns):\n",
      " #   Column           Non-Null Count  Dtype \n",
      "---  ------           --------------  ----- \n",
      " 0   Manager          64 non-null     object\n",
      " 1   Manager Number   64 non-null     int64 \n",
      " 2   Path             64 non-null     object\n",
      " 3   Sales Rep Name   64 non-null     object\n",
      " 4   Sales Rep Name1  64 non-null     object\n",
      " 5   Sales Rep Name2  59 non-null     object\n",
      " 6   Sales Rep Name3  39 non-null     object\n",
      " 7   Sales Rep ID     64 non-null     int64 \n",
      "dtypes: int64(2), object(6)\n",
      "memory usage: 4.1+ KB\n"
     ]
    }
   ],
   "source": [
    "#checking sales_rep nulls\n",
    "sales_rep.info()\n",
    "#there are some nulls in Sales Rep Name 2/3\n",
    "#there are varying numbers/combinations of sales reps working on each line which would cause intentional nulls\n",
    "#this means that Sales Rep Name 2/3 can remain as null\n",
    "#if it is causing a problem at a later stage we can drop the columns Sales Rep Name 2/3 and still be able to refer back to that data through the Sales Rep ID"
   ]
  },
  {
   "cell_type": "markdown",
   "id": "88886200",
   "metadata": {},
   "source": [
    "### Looking for shared columns across the dfs:"
   ]
  },
  {
   "cell_type": "code",
   "execution_count": 13,
   "id": "0584cbbf",
   "metadata": {},
   "outputs": [
    {
     "name": "stdout",
     "output_type": "stream",
     "text": [
      "cities and customers intersects at\n"
     ]
    },
    {
     "data": {
      "text/plain": [
       "Index(['City Code'], dtype='object')"
      ]
     },
     "metadata": {},
     "output_type": "display_data"
    },
    {
     "name": "stdout",
     "output_type": "stream",
     "text": [
      "cities shape: (100, 6)\n",
      "customers shape: (684, 3)\n"
     ]
    }
   ],
   "source": [
    "#direct intersection between cities and customers\n",
    "print('cities and customers intersects at')\n",
    "display(cities.columns.intersection(customers.columns))\n",
    "\n",
    "print(f\"cities shape: {cities.shape}\")\n",
    "print(f\"customers shape: {customers.shape}\")\n",
    "\n",
    "#customers is the larger df and we want to keep all of its values of so we will merge cities into it later"
   ]
  },
  {
   "cell_type": "code",
   "execution_count": 14,
   "id": "468ea0db",
   "metadata": {},
   "outputs": [
    {
     "name": "stdout",
     "output_type": "stream",
     "text": [
      "customers and sales intersects at\n"
     ]
    },
    {
     "data": {
      "text/plain": [
       "Index(['Customer Number'], dtype='object')"
      ]
     },
     "metadata": {},
     "output_type": "display_data"
    },
    {
     "name": "stdout",
     "output_type": "stream",
     "text": [
      "customers shape: (684, 3)\n",
      "sales shape: (96466, 15)\n"
     ]
    }
   ],
   "source": [
    "#direct intersection between customers and sales\n",
    "print('customers and sales intersects at')\n",
    "display(customers.columns.intersection(sales.columns))\n",
    "\n",
    "print(f\"customers shape: {customers.shape}\")\n",
    "print(f\"sales shape: {sales.shape}\")\n",
    "\n",
    "#sales is the larger df and we want to keep all of its values of so we will merge customers into it later"
   ]
  },
  {
   "cell_type": "code",
   "execution_count": 15,
   "id": "0f8d6fea",
   "metadata": {
    "scrolled": true
   },
   "outputs": [
    {
     "name": "stdout",
     "output_type": "stream",
     "text": [
      "item_master and sales intersects at\n"
     ]
    },
    {
     "data": {
      "text/plain": [
       "Index(['Item Number'], dtype='object')"
      ]
     },
     "metadata": {},
     "output_type": "display_data"
    },
    {
     "name": "stdout",
     "output_type": "stream",
     "text": [
      "item_master shape: (827, 5)\n",
      "sales shape: (96466, 15)\n"
     ]
    }
   ],
   "source": [
    "#direct intersection between item_master and sales\n",
    "print('item_master and sales intersects at')\n",
    "display(item_master.columns.intersection(sales.columns))\n",
    "\n",
    "print(f\"item_master shape: {item_master.shape}\")\n",
    "print(f\"sales shape: {sales.shape}\")\n",
    "\n",
    "#sales is the larger df and we want to keep all of its values of so we will merge item_master into it later"
   ]
  },
  {
   "cell_type": "code",
   "execution_count": 16,
   "id": "abf6e768",
   "metadata": {},
   "outputs": [
    {
     "data": {
      "text/plain": [
       "Index(['%KEY', 'Cost', 'Customer Number', 'Date', 'GrossSales', 'Invoice Date',\n",
       "       'Invoice Number', 'Item Desc', 'Item Number', 'Margin', 'Order Number',\n",
       "       'Promised Delivery Date', 'Sales', 'Sales Qty', 'Sales Rep Number'],\n",
       "      dtype='object')"
      ]
     },
     "metadata": {},
     "output_type": "display_data"
    },
    {
     "data": {
      "text/plain": [
       "Index(['Manager', 'Manager Number', 'Path', 'Sales Rep Name',\n",
       "       'Sales Rep Name1', 'Sales Rep Name2', 'Sales Rep Name3',\n",
       "       'Sales Rep ID'],\n",
       "      dtype='object')"
      ]
     },
     "metadata": {},
     "output_type": "display_data"
    }
   ],
   "source": [
    "#indirect intersection between sales and sales_rep detected via visual inspection of columns\n",
    "display(sales.columns)\n",
    "display(sales_rep.columns)\n",
    "#column 'Sales Rep Number' in sales df can probably merge with column 'Sales Rep ID' in sales_rep"
   ]
  },
  {
   "cell_type": "code",
   "execution_count": 17,
   "id": "20c11fff",
   "metadata": {},
   "outputs": [
    {
     "data": {
      "text/plain": [
       "array([ True,  True,  True,  True,  True,  True,  True,  True,  True,\n",
       "        True,  True,  True,  True,  True,  True,  True,  True,  True,\n",
       "        True,  True,  True,  True,  True,  True,  True,  True,  True,\n",
       "        True,  True,  True,  True,  True,  True,  True,  True,  True,\n",
       "        True,  True,  True,  True,  True,  True,  True,  True,  True,\n",
       "        True,  True,  True,  True,  True,  True,  True,  True,  True,\n",
       "        True,  True,  True,  True,  True,  True,  True,  True,  True,\n",
       "        True])"
      ]
     },
     "execution_count": 17,
     "metadata": {},
     "output_type": "execute_result"
    }
   ],
   "source": [
    "#checking that both series have the same unique values\n",
    "sales['Sales Rep Number'].sort_values().unique() == sales_rep['Sales Rep ID'].sort_values().unique()\n",
    "#determined that the columns 'Sales Rep Number' and 'Sales Rep ID' have the same unique values and can therefore merge\n",
    "#can merge sales_rep df into the larger df which is sales"
   ]
  },
  {
   "cell_type": "code",
   "execution_count": 18,
   "id": "bf16e504",
   "metadata": {},
   "outputs": [],
   "source": [
    "#make the headings uniform\n",
    "sales.rename(columns = {'Sales Rep Number':'Sales Rep ID'}, inplace = True)"
   ]
  },
  {
   "cell_type": "code",
   "execution_count": 19,
   "id": "83d0a40e",
   "metadata": {},
   "outputs": [],
   "source": [
    "#all of the datasets can merge into one to rule them all\n",
    "#this will help to make sure we have enough opportunity to answer the broad framing questions"
   ]
  },
  {
   "cell_type": "markdown",
   "id": "87e1279a",
   "metadata": {},
   "source": [
    "**Shared Columns Investigation Outcome:**\n",
    "\n",
    "All dfs can be merged together as follows:\n",
    "- Left merge customers and cities on 'City Code'\n",
    "- Left merge sales and customers on 'Customer Number'\n",
    "- Left merge sales and item_master on 'Item Number'\n",
    "- Left merge sales and sales_rep on 'Sales Rep ID'"
   ]
  },
  {
   "cell_type": "markdown",
   "id": "75a91e66",
   "metadata": {},
   "source": [
    "### Dealing with duplicates:"
   ]
  },
  {
   "cell_type": "markdown",
   "id": "2b963359",
   "metadata": {},
   "source": [
    "**cities duplicates:**"
   ]
  },
  {
   "cell_type": "code",
   "execution_count": 20,
   "id": "e5878949",
   "metadata": {
    "scrolled": true
   },
   "outputs": [
    {
     "data": {
      "text/html": [
       "<div>\n",
       "<style scoped>\n",
       "    .dataframe tbody tr th:only-of-type {\n",
       "        vertical-align: middle;\n",
       "    }\n",
       "\n",
       "    .dataframe tbody tr th {\n",
       "        vertical-align: top;\n",
       "    }\n",
       "\n",
       "    .dataframe thead th {\n",
       "        text-align: right;\n",
       "    }\n",
       "</style>\n",
       "<table border=\"1\" class=\"dataframe\">\n",
       "  <thead>\n",
       "    <tr style=\"text-align: right;\">\n",
       "      <th></th>\n",
       "      <th>City</th>\n",
       "      <th>City Code</th>\n",
       "      <th>Region</th>\n",
       "      <th>Latitude</th>\n",
       "      <th>Longitude</th>\n",
       "      <th>Desc</th>\n",
       "    </tr>\n",
       "  </thead>\n",
       "  <tbody>\n",
       "    <tr>\n",
       "      <th>False</th>\n",
       "      <td>100.0</td>\n",
       "      <td>100.0</td>\n",
       "      <td>6</td>\n",
       "      <td>100.0</td>\n",
       "      <td>100.0</td>\n",
       "      <td>98</td>\n",
       "    </tr>\n",
       "    <tr>\n",
       "      <th>True</th>\n",
       "      <td>NaN</td>\n",
       "      <td>NaN</td>\n",
       "      <td>94</td>\n",
       "      <td>NaN</td>\n",
       "      <td>NaN</td>\n",
       "      <td>2</td>\n",
       "    </tr>\n",
       "  </tbody>\n",
       "</table>\n",
       "</div>"
      ],
      "text/plain": [
       "        City  City Code  Region  Latitude  Longitude  Desc\n",
       "False  100.0      100.0       6     100.0      100.0    98\n",
       "True     NaN        NaN      94       NaN        NaN     2"
      ]
     },
     "execution_count": 20,
     "metadata": {},
     "output_type": "execute_result"
    }
   ],
   "source": [
    "#check cities for duplicates\n",
    "cities.apply(lambda x : x.duplicated().value_counts())\n",
    "#cities has duplicates in Region(94) and Desc(1)\n",
    "#this indicates that many of the customers are concentrated in the same Region\n",
    "#these duplicates are ok to leave since we're not merging on those columns"
   ]
  },
  {
   "cell_type": "markdown",
   "id": "1c0fb2d2",
   "metadata": {},
   "source": [
    "**customers duplicates:**"
   ]
  },
  {
   "cell_type": "code",
   "execution_count": 21,
   "id": "c49b6d29",
   "metadata": {
    "scrolled": true
   },
   "outputs": [
    {
     "data": {
      "text/html": [
       "<div>\n",
       "<style scoped>\n",
       "    .dataframe tbody tr th:only-of-type {\n",
       "        vertical-align: middle;\n",
       "    }\n",
       "\n",
       "    .dataframe tbody tr th {\n",
       "        vertical-align: top;\n",
       "    }\n",
       "\n",
       "    .dataframe thead th {\n",
       "        text-align: right;\n",
       "    }\n",
       "</style>\n",
       "<table border=\"1\" class=\"dataframe\">\n",
       "  <thead>\n",
       "    <tr style=\"text-align: right;\">\n",
       "      <th></th>\n",
       "      <th>Customer</th>\n",
       "      <th>Customer Number</th>\n",
       "      <th>City Code</th>\n",
       "    </tr>\n",
       "  </thead>\n",
       "  <tbody>\n",
       "    <tr>\n",
       "      <th>False</th>\n",
       "      <td>684.0</td>\n",
       "      <td>683</td>\n",
       "      <td>99</td>\n",
       "    </tr>\n",
       "    <tr>\n",
       "      <th>True</th>\n",
       "      <td>NaN</td>\n",
       "      <td>1</td>\n",
       "      <td>585</td>\n",
       "    </tr>\n",
       "  </tbody>\n",
       "</table>\n",
       "</div>"
      ],
      "text/plain": [
       "       Customer  Customer Number  City Code\n",
       "False     684.0              683         99\n",
       "True        NaN                1        585"
      ]
     },
     "execution_count": 21,
     "metadata": {},
     "output_type": "execute_result"
    }
   ],
   "source": [
    "#check customers for duplicates\n",
    "customers.apply(lambda x : x.duplicated().value_counts())\n",
    "#customers has duplicates in Customer Number(1), and City Code(585)\n",
    "#the Customer Number duplicate is concerning but City Code duplicates just suggest a concentrated customer locality"
   ]
  },
  {
   "cell_type": "code",
   "execution_count": 22,
   "id": "7def2819",
   "metadata": {
    "scrolled": true
   },
   "outputs": [
    {
     "data": {
      "text/html": [
       "<div>\n",
       "<style scoped>\n",
       "    .dataframe tbody tr th:only-of-type {\n",
       "        vertical-align: middle;\n",
       "    }\n",
       "\n",
       "    .dataframe tbody tr th {\n",
       "        vertical-align: top;\n",
       "    }\n",
       "\n",
       "    .dataframe thead th {\n",
       "        text-align: right;\n",
       "    }\n",
       "</style>\n",
       "<table border=\"1\" class=\"dataframe\">\n",
       "  <thead>\n",
       "    <tr style=\"text-align: right;\">\n",
       "      <th></th>\n",
       "      <th>Customer</th>\n",
       "      <th>Customer Number</th>\n",
       "      <th>City Code</th>\n",
       "    </tr>\n",
       "  </thead>\n",
       "  <tbody>\n",
       "    <tr>\n",
       "      <th>468</th>\n",
       "      <td>Ping</td>\n",
       "      <td>10021911</td>\n",
       "      <td>65</td>\n",
       "    </tr>\n",
       "  </tbody>\n",
       "</table>\n",
       "</div>"
      ],
      "text/plain": [
       "    Customer  Customer Number  City Code\n",
       "468     Ping         10021911         65"
      ]
     },
     "execution_count": 22,
     "metadata": {},
     "output_type": "execute_result"
    }
   ],
   "source": [
    "#finding the duplicate value in customers\n",
    "customers[customers['Customer Number'].duplicated()]"
   ]
  },
  {
   "cell_type": "code",
   "execution_count": 23,
   "id": "5a2ea1ea",
   "metadata": {},
   "outputs": [
    {
     "data": {
      "text/html": [
       "<div>\n",
       "<style scoped>\n",
       "    .dataframe tbody tr th:only-of-type {\n",
       "        vertical-align: middle;\n",
       "    }\n",
       "\n",
       "    .dataframe tbody tr th {\n",
       "        vertical-align: top;\n",
       "    }\n",
       "\n",
       "    .dataframe thead th {\n",
       "        text-align: right;\n",
       "    }\n",
       "</style>\n",
       "<table border=\"1\" class=\"dataframe\">\n",
       "  <thead>\n",
       "    <tr style=\"text-align: right;\">\n",
       "      <th></th>\n",
       "      <th>Customer</th>\n",
       "      <th>Customer Number</th>\n",
       "      <th>City Code</th>\n",
       "    </tr>\n",
       "  </thead>\n",
       "  <tbody>\n",
       "    <tr>\n",
       "      <th>467</th>\n",
       "      <td>PING</td>\n",
       "      <td>10021911</td>\n",
       "      <td>64</td>\n",
       "    </tr>\n",
       "    <tr>\n",
       "      <th>468</th>\n",
       "      <td>Ping</td>\n",
       "      <td>10021911</td>\n",
       "      <td>65</td>\n",
       "    </tr>\n",
       "  </tbody>\n",
       "</table>\n",
       "</div>"
      ],
      "text/plain": [
       "    Customer  Customer Number  City Code\n",
       "467     PING         10021911         64\n",
       "468     Ping         10021911         65"
      ]
     },
     "execution_count": 23,
     "metadata": {},
     "output_type": "execute_result"
    }
   ],
   "source": [
    "#inspecting the duplicate value in customers\n",
    "customers[customers['Customer Number'] == 10021911]\n",
    "#it looks like the same customer has 2 nearby but seperate locations leading to a shared customer number\n",
    "#this customer number duplication will cause a problem later when merging with the sales df so one must be dropped\n",
    "#it is a small sacrifice to pay and won't be of any real significance as the locations are nearby anyway"
   ]
  },
  {
   "cell_type": "code",
   "execution_count": 24,
   "id": "9af7a373",
   "metadata": {},
   "outputs": [],
   "source": [
    "#drop duplicate as it's not significant to the analysis\n",
    "#dropping will prevent creating sales duplicates when merging on this column into sales data\n",
    "customers.drop_duplicates(subset='Customer Number', inplace=True)"
   ]
  },
  {
   "cell_type": "code",
   "execution_count": 25,
   "id": "dcafcb7e",
   "metadata": {},
   "outputs": [
    {
     "data": {
      "text/html": [
       "<div>\n",
       "<style scoped>\n",
       "    .dataframe tbody tr th:only-of-type {\n",
       "        vertical-align: middle;\n",
       "    }\n",
       "\n",
       "    .dataframe tbody tr th {\n",
       "        vertical-align: top;\n",
       "    }\n",
       "\n",
       "    .dataframe thead th {\n",
       "        text-align: right;\n",
       "    }\n",
       "</style>\n",
       "<table border=\"1\" class=\"dataframe\">\n",
       "  <thead>\n",
       "    <tr style=\"text-align: right;\">\n",
       "      <th></th>\n",
       "      <th>Customer</th>\n",
       "      <th>Customer Number</th>\n",
       "      <th>City Code</th>\n",
       "    </tr>\n",
       "  </thead>\n",
       "  <tbody>\n",
       "  </tbody>\n",
       "</table>\n",
       "</div>"
      ],
      "text/plain": [
       "Empty DataFrame\n",
       "Columns: [Customer, Customer Number, City Code]\n",
       "Index: []"
      ]
     },
     "execution_count": 25,
     "metadata": {},
     "output_type": "execute_result"
    }
   ],
   "source": [
    "#check that the duplicate is no more\n",
    "customers[customers['Customer Number'].duplicated()]"
   ]
  },
  {
   "cell_type": "markdown",
   "id": "d6bbdfbf",
   "metadata": {},
   "source": [
    "**item_master duplicates:**"
   ]
  },
  {
   "cell_type": "code",
   "execution_count": 26,
   "id": "64bc00d0",
   "metadata": {},
   "outputs": [
    {
     "data": {
      "text/html": [
       "<div>\n",
       "<style scoped>\n",
       "    .dataframe tbody tr th:only-of-type {\n",
       "        vertical-align: middle;\n",
       "    }\n",
       "\n",
       "    .dataframe tbody tr th {\n",
       "        vertical-align: top;\n",
       "    }\n",
       "\n",
       "    .dataframe thead th {\n",
       "        text-align: right;\n",
       "    }\n",
       "</style>\n",
       "<table border=\"1\" class=\"dataframe\">\n",
       "  <thead>\n",
       "    <tr style=\"text-align: right;\">\n",
       "      <th></th>\n",
       "      <th>Item Number</th>\n",
       "      <th>Product Group</th>\n",
       "      <th>Product Line</th>\n",
       "      <th>Product Sub Group</th>\n",
       "      <th>Product Type</th>\n",
       "    </tr>\n",
       "  </thead>\n",
       "  <tbody>\n",
       "    <tr>\n",
       "      <th>False</th>\n",
       "      <td>827.0</td>\n",
       "      <td>15</td>\n",
       "      <td>2</td>\n",
       "      <td>70</td>\n",
       "      <td>31</td>\n",
       "    </tr>\n",
       "    <tr>\n",
       "      <th>True</th>\n",
       "      <td>NaN</td>\n",
       "      <td>812</td>\n",
       "      <td>825</td>\n",
       "      <td>757</td>\n",
       "      <td>796</td>\n",
       "    </tr>\n",
       "  </tbody>\n",
       "</table>\n",
       "</div>"
      ],
      "text/plain": [
       "       Item Number  Product Group  Product Line  Product Sub Group  \\\n",
       "False        827.0             15             2                 70   \n",
       "True           NaN            812           825                757   \n",
       "\n",
       "       Product Type  \n",
       "False            31  \n",
       "True            796  "
      ]
     },
     "execution_count": 26,
     "metadata": {},
     "output_type": "execute_result"
    }
   ],
   "source": [
    "#check item_master for duplicates\n",
    "item_master.apply(lambda x : x.duplicated().value_counts())\n",
    "#There are a lot of duplicate values in this df\n",
    "#but they are ok\n",
    "#The Item Number has no duplicates which is the important thing, as we will merge on that later."
   ]
  },
  {
   "cell_type": "markdown",
   "id": "efaceb44",
   "metadata": {},
   "source": [
    "**sales duplicates:**"
   ]
  },
  {
   "cell_type": "code",
   "execution_count": 27,
   "id": "92dc1039",
   "metadata": {},
   "outputs": [
    {
     "data": {
      "text/html": [
       "<div>\n",
       "<style scoped>\n",
       "    .dataframe tbody tr th:only-of-type {\n",
       "        vertical-align: middle;\n",
       "    }\n",
       "\n",
       "    .dataframe tbody tr th {\n",
       "        vertical-align: top;\n",
       "    }\n",
       "\n",
       "    .dataframe thead th {\n",
       "        text-align: right;\n",
       "    }\n",
       "</style>\n",
       "<table border=\"1\" class=\"dataframe\">\n",
       "  <thead>\n",
       "    <tr style=\"text-align: right;\">\n",
       "      <th></th>\n",
       "      <th>%KEY</th>\n",
       "      <th>Cost</th>\n",
       "      <th>Customer Number</th>\n",
       "      <th>Date</th>\n",
       "      <th>GrossSales</th>\n",
       "      <th>Invoice Date</th>\n",
       "      <th>Invoice Number</th>\n",
       "      <th>Item Desc</th>\n",
       "      <th>Item Number</th>\n",
       "      <th>Margin</th>\n",
       "      <th>Order Number</th>\n",
       "      <th>Promised Delivery Date</th>\n",
       "      <th>Sales</th>\n",
       "      <th>Sales Qty</th>\n",
       "      <th>Sales Rep ID</th>\n",
       "    </tr>\n",
       "  </thead>\n",
       "  <tbody>\n",
       "    <tr>\n",
       "      <th>False</th>\n",
       "      <td>96466.0</td>\n",
       "      <td>8693</td>\n",
       "      <td>636</td>\n",
       "      <td>626</td>\n",
       "      <td>17324</td>\n",
       "      <td>626</td>\n",
       "      <td>38314</td>\n",
       "      <td>825</td>\n",
       "      <td>827</td>\n",
       "      <td>25535</td>\n",
       "      <td>29072</td>\n",
       "      <td>675</td>\n",
       "      <td>26157</td>\n",
       "      <td>303</td>\n",
       "      <td>64</td>\n",
       "    </tr>\n",
       "    <tr>\n",
       "      <th>True</th>\n",
       "      <td>NaN</td>\n",
       "      <td>87773</td>\n",
       "      <td>95830</td>\n",
       "      <td>95840</td>\n",
       "      <td>79142</td>\n",
       "      <td>95840</td>\n",
       "      <td>58152</td>\n",
       "      <td>95641</td>\n",
       "      <td>95639</td>\n",
       "      <td>70931</td>\n",
       "      <td>67394</td>\n",
       "      <td>95791</td>\n",
       "      <td>70309</td>\n",
       "      <td>96163</td>\n",
       "      <td>96402</td>\n",
       "    </tr>\n",
       "  </tbody>\n",
       "</table>\n",
       "</div>"
      ],
      "text/plain": [
       "          %KEY   Cost  Customer Number   Date  GrossSales  Invoice Date  \\\n",
       "False  96466.0   8693              636    626       17324           626   \n",
       "True       NaN  87773            95830  95840       79142         95840   \n",
       "\n",
       "       Invoice Number  Item Desc  Item Number  Margin  Order Number  \\\n",
       "False           38314        825          827   25535         29072   \n",
       "True            58152      95641        95639   70931         67394   \n",
       "\n",
       "       Promised Delivery Date  Sales  Sales Qty  Sales Rep ID  \n",
       "False                     675  26157        303            64  \n",
       "True                    95791  70309      96163         96402  "
      ]
     },
     "execution_count": 27,
     "metadata": {},
     "output_type": "execute_result"
    }
   ],
   "source": [
    "#check sales for duplicates\n",
    "sales.apply(lambda x : x.duplicated().value_counts())\n",
    "#there is a lot of duplicates in this dataset which was expected and necessary for the function of this analysis\n",
    "#it is tolerable because its the largest dataset and we want to draw the values from the other datasets into the shape of this one"
   ]
  },
  {
   "cell_type": "markdown",
   "id": "1e1afd02",
   "metadata": {},
   "source": [
    "**sales_rep duplicates:**"
   ]
  },
  {
   "cell_type": "code",
   "execution_count": 28,
   "id": "18b7417b",
   "metadata": {
    "scrolled": true
   },
   "outputs": [
    {
     "data": {
      "text/html": [
       "<div>\n",
       "<style scoped>\n",
       "    .dataframe tbody tr th:only-of-type {\n",
       "        vertical-align: middle;\n",
       "    }\n",
       "\n",
       "    .dataframe tbody tr th {\n",
       "        vertical-align: top;\n",
       "    }\n",
       "\n",
       "    .dataframe thead th {\n",
       "        text-align: right;\n",
       "    }\n",
       "</style>\n",
       "<table border=\"1\" class=\"dataframe\">\n",
       "  <thead>\n",
       "    <tr style=\"text-align: right;\">\n",
       "      <th></th>\n",
       "      <th>Manager</th>\n",
       "      <th>Manager Number</th>\n",
       "      <th>Path</th>\n",
       "      <th>Sales Rep Name</th>\n",
       "      <th>Sales Rep Name1</th>\n",
       "      <th>Sales Rep Name2</th>\n",
       "      <th>Sales Rep Name3</th>\n",
       "      <th>Sales Rep ID</th>\n",
       "    </tr>\n",
       "  </thead>\n",
       "  <tbody>\n",
       "    <tr>\n",
       "      <th>False</th>\n",
       "      <td>18</td>\n",
       "      <td>18</td>\n",
       "      <td>64.0</td>\n",
       "      <td>63</td>\n",
       "      <td>5</td>\n",
       "      <td>21</td>\n",
       "      <td>39</td>\n",
       "      <td>64.0</td>\n",
       "    </tr>\n",
       "    <tr>\n",
       "      <th>True</th>\n",
       "      <td>46</td>\n",
       "      <td>46</td>\n",
       "      <td>NaN</td>\n",
       "      <td>1</td>\n",
       "      <td>59</td>\n",
       "      <td>43</td>\n",
       "      <td>25</td>\n",
       "      <td>NaN</td>\n",
       "    </tr>\n",
       "  </tbody>\n",
       "</table>\n",
       "</div>"
      ],
      "text/plain": [
       "       Manager  Manager Number  Path  Sales Rep Name  Sales Rep Name1  \\\n",
       "False       18              18  64.0              63                5   \n",
       "True        46              46   NaN               1               59   \n",
       "\n",
       "       Sales Rep Name2  Sales Rep Name3  Sales Rep ID  \n",
       "False               21               39          64.0  \n",
       "True                43               25           NaN  "
      ]
     },
     "execution_count": 28,
     "metadata": {},
     "output_type": "execute_result"
    }
   ],
   "source": [
    "#check sales for duplicates\n",
    "sales_rep.apply(lambda x : x.duplicated().value_counts())\n",
    "#There are a lot of duplicate values in this df\n",
    "#but they are ok\n",
    "#The Sales Rep ID has no duplicates which is the important thing, as we will merge on that later."
   ]
  },
  {
   "cell_type": "markdown",
   "id": "c0245302",
   "metadata": {},
   "source": [
    "### Erroneous Values Investigation:"
   ]
  },
  {
   "cell_type": "markdown",
   "id": "d8fa3f87",
   "metadata": {},
   "source": [
    "cities erroneous:"
   ]
  },
  {
   "cell_type": "code",
   "execution_count": 29,
   "id": "b7435d77",
   "metadata": {
    "scrolled": false
   },
   "outputs": [
    {
     "data": {
      "text/html": [
       "<div>\n",
       "<style scoped>\n",
       "    .dataframe tbody tr th:only-of-type {\n",
       "        vertical-align: middle;\n",
       "    }\n",
       "\n",
       "    .dataframe tbody tr th {\n",
       "        vertical-align: top;\n",
       "    }\n",
       "\n",
       "    .dataframe thead th {\n",
       "        text-align: right;\n",
       "    }\n",
       "</style>\n",
       "<table border=\"1\" class=\"dataframe\">\n",
       "  <thead>\n",
       "    <tr style=\"text-align: right;\">\n",
       "      <th></th>\n",
       "      <th>City Code</th>\n",
       "      <th>Latitude</th>\n",
       "      <th>Longitude</th>\n",
       "    </tr>\n",
       "  </thead>\n",
       "  <tbody>\n",
       "    <tr>\n",
       "      <th>count</th>\n",
       "      <td>100.000000</td>\n",
       "      <td>100.000000</td>\n",
       "      <td>100.000000</td>\n",
       "    </tr>\n",
       "    <tr>\n",
       "      <th>mean</th>\n",
       "      <td>50.500000</td>\n",
       "      <td>44.813257</td>\n",
       "      <td>-28.028824</td>\n",
       "    </tr>\n",
       "    <tr>\n",
       "      <th>std</th>\n",
       "      <td>29.011492</td>\n",
       "      <td>9.437991</td>\n",
       "      <td>67.404008</td>\n",
       "    </tr>\n",
       "    <tr>\n",
       "      <th>min</th>\n",
       "      <td>1.000000</td>\n",
       "      <td>25.774266</td>\n",
       "      <td>-122.674195</td>\n",
       "    </tr>\n",
       "    <tr>\n",
       "      <th>25%</th>\n",
       "      <td>25.750000</td>\n",
       "      <td>36.589686</td>\n",
       "      <td>-87.698940</td>\n",
       "    </tr>\n",
       "    <tr>\n",
       "      <th>50%</th>\n",
       "      <td>50.500000</td>\n",
       "      <td>42.354573</td>\n",
       "      <td>-3.188403</td>\n",
       "    </tr>\n",
       "    <tr>\n",
       "      <th>75%</th>\n",
       "      <td>75.250000</td>\n",
       "      <td>53.386865</td>\n",
       "      <td>7.764462</td>\n",
       "    </tr>\n",
       "    <tr>\n",
       "      <th>max</th>\n",
       "      <td>100.000000</td>\n",
       "      <td>64.145981</td>\n",
       "      <td>141.354460</td>\n",
       "    </tr>\n",
       "  </tbody>\n",
       "</table>\n",
       "</div>"
      ],
      "text/plain": [
       "        City Code    Latitude   Longitude\n",
       "count  100.000000  100.000000  100.000000\n",
       "mean    50.500000   44.813257  -28.028824\n",
       "std     29.011492    9.437991   67.404008\n",
       "min      1.000000   25.774266 -122.674195\n",
       "25%     25.750000   36.589686  -87.698940\n",
       "50%     50.500000   42.354573   -3.188403\n",
       "75%     75.250000   53.386865    7.764462\n",
       "max    100.000000   64.145981  141.354460"
      ]
     },
     "execution_count": 29,
     "metadata": {},
     "output_type": "execute_result"
    }
   ],
   "source": [
    "cities.describe()\n",
    "#looks ok, latitudes and longitudes are within limits"
   ]
  },
  {
   "cell_type": "markdown",
   "id": "db4e9081",
   "metadata": {},
   "source": [
    "customers erroneous:"
   ]
  },
  {
   "cell_type": "code",
   "execution_count": 30,
   "id": "38cbc2a5",
   "metadata": {
    "scrolled": false
   },
   "outputs": [
    {
     "data": {
      "text/html": [
       "<div>\n",
       "<style scoped>\n",
       "    .dataframe tbody tr th:only-of-type {\n",
       "        vertical-align: middle;\n",
       "    }\n",
       "\n",
       "    .dataframe tbody tr th {\n",
       "        vertical-align: top;\n",
       "    }\n",
       "\n",
       "    .dataframe thead th {\n",
       "        text-align: right;\n",
       "    }\n",
       "</style>\n",
       "<table border=\"1\" class=\"dataframe\">\n",
       "  <thead>\n",
       "    <tr style=\"text-align: right;\">\n",
       "      <th></th>\n",
       "      <th>Customer Number</th>\n",
       "      <th>City Code</th>\n",
       "    </tr>\n",
       "  </thead>\n",
       "  <tbody>\n",
       "    <tr>\n",
       "      <th>count</th>\n",
       "      <td>6.830000e+02</td>\n",
       "      <td>683.000000</td>\n",
       "    </tr>\n",
       "    <tr>\n",
       "      <th>mean</th>\n",
       "      <td>1.001661e+07</td>\n",
       "      <td>49.811127</td>\n",
       "    </tr>\n",
       "    <tr>\n",
       "      <th>std</th>\n",
       "      <td>7.901658e+03</td>\n",
       "      <td>30.407222</td>\n",
       "    </tr>\n",
       "    <tr>\n",
       "      <th>min</th>\n",
       "      <td>1.000000e+07</td>\n",
       "      <td>1.000000</td>\n",
       "    </tr>\n",
       "    <tr>\n",
       "      <th>25%</th>\n",
       "      <td>1.001091e+07</td>\n",
       "      <td>23.000000</td>\n",
       "    </tr>\n",
       "    <tr>\n",
       "      <th>50%</th>\n",
       "      <td>1.001915e+07</td>\n",
       "      <td>48.000000</td>\n",
       "    </tr>\n",
       "    <tr>\n",
       "      <th>75%</th>\n",
       "      <td>1.002351e+07</td>\n",
       "      <td>74.000000</td>\n",
       "    </tr>\n",
       "    <tr>\n",
       "      <th>max</th>\n",
       "      <td>1.002763e+07</td>\n",
       "      <td>100.000000</td>\n",
       "    </tr>\n",
       "  </tbody>\n",
       "</table>\n",
       "</div>"
      ],
      "text/plain": [
       "       Customer Number   City Code\n",
       "count     6.830000e+02  683.000000\n",
       "mean      1.001661e+07   49.811127\n",
       "std       7.901658e+03   30.407222\n",
       "min       1.000000e+07    1.000000\n",
       "25%       1.001091e+07   23.000000\n",
       "50%       1.001915e+07   48.000000\n",
       "75%       1.002351e+07   74.000000\n",
       "max       1.002763e+07  100.000000"
      ]
     },
     "execution_count": 30,
     "metadata": {},
     "output_type": "execute_result"
    }
   ],
   "source": [
    "customers.describe()\n",
    "#looks ok, city code values are 1 to 100 which is uniform with the cities df"
   ]
  },
  {
   "cell_type": "markdown",
   "id": "ac77e7ba",
   "metadata": {},
   "source": [
    "item_master erroneous:"
   ]
  },
  {
   "cell_type": "code",
   "execution_count": 31,
   "id": "5adb6910",
   "metadata": {
    "scrolled": true
   },
   "outputs": [
    {
     "data": {
      "text/html": [
       "<div>\n",
       "<style scoped>\n",
       "    .dataframe tbody tr th:only-of-type {\n",
       "        vertical-align: middle;\n",
       "    }\n",
       "\n",
       "    .dataframe tbody tr th {\n",
       "        vertical-align: top;\n",
       "    }\n",
       "\n",
       "    .dataframe thead th {\n",
       "        text-align: right;\n",
       "    }\n",
       "</style>\n",
       "<table border=\"1\" class=\"dataframe\">\n",
       "  <thead>\n",
       "    <tr style=\"text-align: right;\">\n",
       "      <th></th>\n",
       "      <th>Item Number</th>\n",
       "    </tr>\n",
       "  </thead>\n",
       "  <tbody>\n",
       "    <tr>\n",
       "      <th>count</th>\n",
       "      <td>827.000000</td>\n",
       "    </tr>\n",
       "    <tr>\n",
       "      <th>mean</th>\n",
       "      <td>10522.220073</td>\n",
       "    </tr>\n",
       "    <tr>\n",
       "      <th>std</th>\n",
       "      <td>310.710951</td>\n",
       "    </tr>\n",
       "    <tr>\n",
       "      <th>min</th>\n",
       "      <td>10001.000000</td>\n",
       "    </tr>\n",
       "    <tr>\n",
       "      <th>25%</th>\n",
       "      <td>10268.500000</td>\n",
       "    </tr>\n",
       "    <tr>\n",
       "      <th>50%</th>\n",
       "      <td>10534.000000</td>\n",
       "    </tr>\n",
       "    <tr>\n",
       "      <th>75%</th>\n",
       "      <td>10800.500000</td>\n",
       "    </tr>\n",
       "    <tr>\n",
       "      <th>max</th>\n",
       "      <td>11971.000000</td>\n",
       "    </tr>\n",
       "  </tbody>\n",
       "</table>\n",
       "</div>"
      ],
      "text/plain": [
       "        Item Number\n",
       "count    827.000000\n",
       "mean   10522.220073\n",
       "std      310.710951\n",
       "min    10001.000000\n",
       "25%    10268.500000\n",
       "50%    10534.000000\n",
       "75%    10800.500000\n",
       "max    11971.000000"
      ]
     },
     "execution_count": 31,
     "metadata": {},
     "output_type": "execute_result"
    }
   ],
   "source": [
    "item_master.describe()\n",
    "#nothing to judge, item numbers range from 10,001 to 11,971 with 827 of those item numbers being allocated"
   ]
  },
  {
   "cell_type": "markdown",
   "id": "cb638e76",
   "metadata": {},
   "source": [
    "sales erroneous:"
   ]
  },
  {
   "cell_type": "code",
   "execution_count": 32,
   "id": "2c780fa6",
   "metadata": {
    "scrolled": false
   },
   "outputs": [
    {
     "data": {
      "text/html": [
       "<div>\n",
       "<style scoped>\n",
       "    .dataframe tbody tr th:only-of-type {\n",
       "        vertical-align: middle;\n",
       "    }\n",
       "\n",
       "    .dataframe tbody tr th {\n",
       "        vertical-align: top;\n",
       "    }\n",
       "\n",
       "    .dataframe thead th {\n",
       "        text-align: right;\n",
       "    }\n",
       "</style>\n",
       "<table border=\"1\" class=\"dataframe\">\n",
       "  <thead>\n",
       "    <tr style=\"text-align: right;\">\n",
       "      <th></th>\n",
       "      <th>%KEY</th>\n",
       "      <th>Cost</th>\n",
       "      <th>Customer Number</th>\n",
       "      <th>GrossSales</th>\n",
       "      <th>Invoice Number</th>\n",
       "      <th>Item Number</th>\n",
       "      <th>Margin</th>\n",
       "      <th>Order Number</th>\n",
       "      <th>Sales</th>\n",
       "      <th>Sales Qty</th>\n",
       "      <th>Sales Rep ID</th>\n",
       "    </tr>\n",
       "  </thead>\n",
       "  <tbody>\n",
       "    <tr>\n",
       "      <th>count</th>\n",
       "      <td>96466.000000</td>\n",
       "      <td>96466.000000</td>\n",
       "      <td>9.646600e+04</td>\n",
       "      <td>96466.000000</td>\n",
       "      <td>96466.000000</td>\n",
       "      <td>96466.000000</td>\n",
       "      <td>96466.000000</td>\n",
       "      <td>96466.000000</td>\n",
       "      <td>96466.000000</td>\n",
       "      <td>96466.000000</td>\n",
       "      <td>96466.000000</td>\n",
       "    </tr>\n",
       "    <tr>\n",
       "      <th>mean</th>\n",
       "      <td>54715.166732</td>\n",
       "      <td>638.272186</td>\n",
       "      <td>1.001751e+07</td>\n",
       "      <td>1097.916246</td>\n",
       "      <td>213089.625339</td>\n",
       "      <td>10512.149856</td>\n",
       "      <td>448.377554</td>\n",
       "      <td>193854.617637</td>\n",
       "      <td>1086.939179</td>\n",
       "      <td>18.829146</td>\n",
       "      <td>137.341478</td>\n",
       "    </tr>\n",
       "    <tr>\n",
       "      <th>std</th>\n",
       "      <td>32130.384196</td>\n",
       "      <td>6435.093413</td>\n",
       "      <td>7.360265e+03</td>\n",
       "      <td>10243.399673</td>\n",
       "      <td>90626.900031</td>\n",
       "      <td>292.454663</td>\n",
       "      <td>3848.809989</td>\n",
       "      <td>73985.562829</td>\n",
       "      <td>10147.213456</td>\n",
       "      <td>293.555730</td>\n",
       "      <td>26.283149</td>\n",
       "    </tr>\n",
       "    <tr>\n",
       "      <th>min</th>\n",
       "      <td>1.000000</td>\n",
       "      <td>-9392.930000</td>\n",
       "      <td>1.000000e+07</td>\n",
       "      <td>-27929.875200</td>\n",
       "      <td>100001.000000</td>\n",
       "      <td>10001.000000</td>\n",
       "      <td>-27929.880000</td>\n",
       "      <td>100012.000000</td>\n",
       "      <td>-27929.880000</td>\n",
       "      <td>-1000.000000</td>\n",
       "      <td>103.000000</td>\n",
       "    </tr>\n",
       "    <tr>\n",
       "      <th>25%</th>\n",
       "      <td>26793.250000</td>\n",
       "      <td>13.280000</td>\n",
       "      <td>1.001242e+07</td>\n",
       "      <td>33.241525</td>\n",
       "      <td>118843.500000</td>\n",
       "      <td>10266.000000</td>\n",
       "      <td>16.410000</td>\n",
       "      <td>117828.500000</td>\n",
       "      <td>32.950000</td>\n",
       "      <td>1.000000</td>\n",
       "      <td>114.000000</td>\n",
       "    </tr>\n",
       "    <tr>\n",
       "      <th>50%</th>\n",
       "      <td>54144.500000</td>\n",
       "      <td>55.460000</td>\n",
       "      <td>1.001942e+07</td>\n",
       "      <td>114.010000</td>\n",
       "      <td>219354.000000</td>\n",
       "      <td>10522.500000</td>\n",
       "      <td>50.290000</td>\n",
       "      <td>206875.000000</td>\n",
       "      <td>112.655000</td>\n",
       "      <td>1.000000</td>\n",
       "      <td>132.000000</td>\n",
       "    </tr>\n",
       "    <tr>\n",
       "      <th>75%</th>\n",
       "      <td>82704.750000</td>\n",
       "      <td>180.540000</td>\n",
       "      <td>1.002352e+07</td>\n",
       "      <td>328.581400</td>\n",
       "      <td>312243.000000</td>\n",
       "      <td>10797.000000</td>\n",
       "      <td>139.500000</td>\n",
       "      <td>222532.750000</td>\n",
       "      <td>325.240000</td>\n",
       "      <td>3.000000</td>\n",
       "      <td>160.000000</td>\n",
       "    </tr>\n",
       "    <tr>\n",
       "      <th>max</th>\n",
       "      <td>110409.000000</td>\n",
       "      <td>366576.000000</td>\n",
       "      <td>1.002758e+07</td>\n",
       "      <td>539200.000000</td>\n",
       "      <td>332847.000000</td>\n",
       "      <td>11971.000000</td>\n",
       "      <td>202083.200000</td>\n",
       "      <td>326618.000000</td>\n",
       "      <td>555376.000000</td>\n",
       "      <td>16000.000000</td>\n",
       "      <td>185.000000</td>\n",
       "    </tr>\n",
       "  </tbody>\n",
       "</table>\n",
       "</div>"
      ],
      "text/plain": [
       "                %KEY           Cost  Customer Number     GrossSales  \\\n",
       "count   96466.000000   96466.000000     9.646600e+04   96466.000000   \n",
       "mean    54715.166732     638.272186     1.001751e+07    1097.916246   \n",
       "std     32130.384196    6435.093413     7.360265e+03   10243.399673   \n",
       "min         1.000000   -9392.930000     1.000000e+07  -27929.875200   \n",
       "25%     26793.250000      13.280000     1.001242e+07      33.241525   \n",
       "50%     54144.500000      55.460000     1.001942e+07     114.010000   \n",
       "75%     82704.750000     180.540000     1.002352e+07     328.581400   \n",
       "max    110409.000000  366576.000000     1.002758e+07  539200.000000   \n",
       "\n",
       "       Invoice Number   Item Number         Margin   Order Number  \\\n",
       "count    96466.000000  96466.000000   96466.000000   96466.000000   \n",
       "mean    213089.625339  10512.149856     448.377554  193854.617637   \n",
       "std      90626.900031    292.454663    3848.809989   73985.562829   \n",
       "min     100001.000000  10001.000000  -27929.880000  100012.000000   \n",
       "25%     118843.500000  10266.000000      16.410000  117828.500000   \n",
       "50%     219354.000000  10522.500000      50.290000  206875.000000   \n",
       "75%     312243.000000  10797.000000     139.500000  222532.750000   \n",
       "max     332847.000000  11971.000000  202083.200000  326618.000000   \n",
       "\n",
       "               Sales     Sales Qty  Sales Rep ID  \n",
       "count   96466.000000  96466.000000  96466.000000  \n",
       "mean     1086.939179     18.829146    137.341478  \n",
       "std     10147.213456    293.555730     26.283149  \n",
       "min    -27929.880000  -1000.000000    103.000000  \n",
       "25%        32.950000      1.000000    114.000000  \n",
       "50%       112.655000      1.000000    132.000000  \n",
       "75%       325.240000      3.000000    160.000000  \n",
       "max    555376.000000  16000.000000    185.000000  "
      ]
     },
     "metadata": {},
     "output_type": "display_data"
    }
   ],
   "source": [
    "display(sales.describe())\n",
    "#Item Number range is uniform with item_master df, good\n",
    "#Customer Number range is within the range set out in the customers df, good\n",
    "#Gross Sales/Margin/Sales has a min value of -27929.880000, suspicious and will investigate\n",
    "#Sales Qty has a min value of -1000, also suspicious and will investigate"
   ]
  },
  {
   "cell_type": "code",
   "execution_count": 33,
   "id": "f050b0fa",
   "metadata": {},
   "outputs": [
    {
     "data": {
      "text/plain": [
       "True     96455\n",
       "False       11\n",
       "dtype: int64"
      ]
     },
     "execution_count": 33,
     "metadata": {},
     "output_type": "execute_result"
    }
   ],
   "source": [
    "#is the Margin column a true representation of Sales value - Cost value?\n",
    "#this was my first approach:\n",
    "    #sales.apply(lambda x: x['Sales']-x['Cost'] == x['Margin'], axis=1).value_counts()\n",
    "#it yeilded that the 'Margin' was only right about half the time which was puzzling\n",
    "#so I looked into it more and ended up discovering that it was due to the way python expressed the calculation\n",
    "\n",
    "#this is the right approch to evaluating the integrity of 'Margin' in this case\n",
    "sales.apply(lambda x: round(x['Sales']-x['Cost'], 2) == x['Margin'], axis=1).value_counts()\n",
    "#11 results that deviate from the 'Margin' is correct"
   ]
  },
  {
   "cell_type": "code",
   "execution_count": 34,
   "id": "e213b762",
   "metadata": {},
   "outputs": [],
   "source": [
    "#create a new column in sales to show margin equality as True, and margin inequality as False\n",
    "sales['margin_integrity'] = \\\n",
    "sales.apply(lambda x: round(x['Sales']-x['Cost'], 2) == x['Margin'], axis=1)"
   ]
  },
  {
   "cell_type": "code",
   "execution_count": 35,
   "id": "10ab4524",
   "metadata": {},
   "outputs": [],
   "source": [
    "#create a new column in sales to show the amount of difference between Margin and (Sales - Cost)\n",
    "sales['margin_difference'] = \\\n",
    "sales.apply(lambda x: round(x['Sales']-x['Cost']-x['Margin'], 2), axis=1)"
   ]
  },
  {
   "cell_type": "code",
   "execution_count": 36,
   "id": "1d761d28",
   "metadata": {
    "scrolled": true
   },
   "outputs": [
    {
     "data": {
      "text/plain": [
       "False    96455\n",
       "True        11\n",
       "Name: margin_integrity, dtype: int64"
      ]
     },
     "execution_count": 36,
     "metadata": {},
     "output_type": "execute_result"
    }
   ],
   "source": [
    "#verifying functions worked correctly\n",
    "(sales['margin_integrity'] == False).value_counts()\n",
    "#correct result"
   ]
  },
  {
   "cell_type": "code",
   "execution_count": 37,
   "id": "b2dae8c0",
   "metadata": {
    "scrolled": true
   },
   "outputs": [
    {
     "data": {
      "text/html": [
       "<div>\n",
       "<style scoped>\n",
       "    .dataframe tbody tr th:only-of-type {\n",
       "        vertical-align: middle;\n",
       "    }\n",
       "\n",
       "    .dataframe tbody tr th {\n",
       "        vertical-align: top;\n",
       "    }\n",
       "\n",
       "    .dataframe thead th {\n",
       "        text-align: right;\n",
       "    }\n",
       "</style>\n",
       "<table border=\"1\" class=\"dataframe\">\n",
       "  <thead>\n",
       "    <tr style=\"text-align: right;\">\n",
       "      <th></th>\n",
       "      <th>%KEY</th>\n",
       "      <th>Cost</th>\n",
       "      <th>Customer Number</th>\n",
       "      <th>Date</th>\n",
       "      <th>GrossSales</th>\n",
       "      <th>Invoice Date</th>\n",
       "      <th>Invoice Number</th>\n",
       "      <th>Item Desc</th>\n",
       "      <th>Item Number</th>\n",
       "      <th>Margin</th>\n",
       "      <th>Order Number</th>\n",
       "      <th>Promised Delivery Date</th>\n",
       "      <th>Sales</th>\n",
       "      <th>Sales Qty</th>\n",
       "      <th>Sales Rep ID</th>\n",
       "      <th>margin_integrity</th>\n",
       "      <th>margin_difference</th>\n",
       "    </tr>\n",
       "  </thead>\n",
       "  <tbody>\n",
       "    <tr>\n",
       "      <th>78421</th>\n",
       "      <td>306</td>\n",
       "      <td>7328.36</td>\n",
       "      <td>10018363</td>\n",
       "      <td>1/1/2014</td>\n",
       "      <td>16216.6608</td>\n",
       "      <td>1/1/2014</td>\n",
       "      <td>219351</td>\n",
       "      <td>Big Time Frozen Cheese Pizza</td>\n",
       "      <td>10403</td>\n",
       "      <td>1874.960</td>\n",
       "      <td>316007</td>\n",
       "      <td>1/1/2014</td>\n",
       "      <td>16703.16</td>\n",
       "      <td>87.0</td>\n",
       "      <td>117</td>\n",
       "      <td>False</td>\n",
       "      <td>7499.84</td>\n",
       "    </tr>\n",
       "    <tr>\n",
       "      <th>81126</th>\n",
       "      <td>8107</td>\n",
       "      <td>3622.06</td>\n",
       "      <td>10018363</td>\n",
       "      <td>1/28/2014</td>\n",
       "      <td>8015.1312</td>\n",
       "      <td>1/28/2014</td>\n",
       "      <td>221741</td>\n",
       "      <td>Big Time Frozen Cheese Pizza</td>\n",
       "      <td>10403</td>\n",
       "      <td>926.704</td>\n",
       "      <td>316004</td>\n",
       "      <td>1/28/2014</td>\n",
       "      <td>8255.58</td>\n",
       "      <td>43.0</td>\n",
       "      <td>117</td>\n",
       "      <td>False</td>\n",
       "      <td>3706.82</td>\n",
       "    </tr>\n",
       "    <tr>\n",
       "      <th>83654</th>\n",
       "      <td>16768</td>\n",
       "      <td>3622.06</td>\n",
       "      <td>10018363</td>\n",
       "      <td>2/21/2014</td>\n",
       "      <td>7597.6743</td>\n",
       "      <td>2/21/2014</td>\n",
       "      <td>223954</td>\n",
       "      <td>Big Time Frozen Cheese Pizza</td>\n",
       "      <td>10403</td>\n",
       "      <td>840.708</td>\n",
       "      <td>318728</td>\n",
       "      <td>2/21/2014</td>\n",
       "      <td>7825.60</td>\n",
       "      <td>43.0</td>\n",
       "      <td>117</td>\n",
       "      <td>False</td>\n",
       "      <td>3362.83</td>\n",
       "    </tr>\n",
       "    <tr>\n",
       "      <th>78418</th>\n",
       "      <td>303</td>\n",
       "      <td>2779.72</td>\n",
       "      <td>10018363</td>\n",
       "      <td>1/1/2014</td>\n",
       "      <td>6151.1472</td>\n",
       "      <td>1/1/2014</td>\n",
       "      <td>219352</td>\n",
       "      <td>Big Time Frozen Cheese Pizza</td>\n",
       "      <td>10403</td>\n",
       "      <td>711.192</td>\n",
       "      <td>316014</td>\n",
       "      <td>1/1/2014</td>\n",
       "      <td>6335.68</td>\n",
       "      <td>33.0</td>\n",
       "      <td>117</td>\n",
       "      <td>False</td>\n",
       "      <td>2844.77</td>\n",
       "    </tr>\n",
       "    <tr>\n",
       "      <th>81398</th>\n",
       "      <td>9082</td>\n",
       "      <td>2105.85</td>\n",
       "      <td>10018363</td>\n",
       "      <td>1/30/2014</td>\n",
       "      <td>4659.9600</td>\n",
       "      <td>1/30/2014</td>\n",
       "      <td>221991</td>\n",
       "      <td>Big Time Frozen Cheese Pizza</td>\n",
       "      <td>10403</td>\n",
       "      <td>538.782</td>\n",
       "      <td>316000</td>\n",
       "      <td>1/30/2014</td>\n",
       "      <td>4799.76</td>\n",
       "      <td>25.0</td>\n",
       "      <td>117</td>\n",
       "      <td>False</td>\n",
       "      <td>2155.13</td>\n",
       "    </tr>\n",
       "    <tr>\n",
       "      <th>93858</th>\n",
       "      <td>51820</td>\n",
       "      <td>1950.21</td>\n",
       "      <td>10018363</td>\n",
       "      <td>6/3/2014</td>\n",
       "      <td>4287.1632</td>\n",
       "      <td>6/3/2014</td>\n",
       "      <td>204496</td>\n",
       "      <td>Big Time Frozen Cheese Pizza</td>\n",
       "      <td>10403</td>\n",
       "      <td>493.112</td>\n",
       "      <td>302396</td>\n",
       "      <td>6/3/2014</td>\n",
       "      <td>4415.77</td>\n",
       "      <td>23.0</td>\n",
       "      <td>117</td>\n",
       "      <td>False</td>\n",
       "      <td>1972.45</td>\n",
       "    </tr>\n",
       "    <tr>\n",
       "      <th>81581</th>\n",
       "      <td>9553</td>\n",
       "      <td>1600.45</td>\n",
       "      <td>10018363</td>\n",
       "      <td>1/31/2014</td>\n",
       "      <td>3541.5696</td>\n",
       "      <td>1/31/2014</td>\n",
       "      <td>222118</td>\n",
       "      <td>Big Time Frozen Cheese Pizza</td>\n",
       "      <td>10403</td>\n",
       "      <td>409.474</td>\n",
       "      <td>316003</td>\n",
       "      <td>2/1/2014</td>\n",
       "      <td>3647.82</td>\n",
       "      <td>19.0</td>\n",
       "      <td>117</td>\n",
       "      <td>False</td>\n",
       "      <td>1637.90</td>\n",
       "    </tr>\n",
       "    <tr>\n",
       "      <th>87545</th>\n",
       "      <td>30755</td>\n",
       "      <td>1600.45</td>\n",
       "      <td>10018363</td>\n",
       "      <td>4/3/2014</td>\n",
       "      <td>3541.5696</td>\n",
       "      <td>4/3/2014</td>\n",
       "      <td>231061</td>\n",
       "      <td>Big Time Frozen Cheese Pizza</td>\n",
       "      <td>10403</td>\n",
       "      <td>409.474</td>\n",
       "      <td>324872</td>\n",
       "      <td>4/3/2014</td>\n",
       "      <td>3647.82</td>\n",
       "      <td>19.0</td>\n",
       "      <td>117</td>\n",
       "      <td>False</td>\n",
       "      <td>1637.90</td>\n",
       "    </tr>\n",
       "    <tr>\n",
       "      <th>78495</th>\n",
       "      <td>581</td>\n",
       "      <td>1600.45</td>\n",
       "      <td>10018363</td>\n",
       "      <td>1/2/2014</td>\n",
       "      <td>3541.5696</td>\n",
       "      <td>1/2/2014</td>\n",
       "      <td>219549</td>\n",
       "      <td>Big Time Frozen Cheese Pizza</td>\n",
       "      <td>10403</td>\n",
       "      <td>409.474</td>\n",
       "      <td>316008</td>\n",
       "      <td>1/2/2014</td>\n",
       "      <td>3647.82</td>\n",
       "      <td>19.0</td>\n",
       "      <td>117</td>\n",
       "      <td>False</td>\n",
       "      <td>1637.90</td>\n",
       "    </tr>\n",
       "    <tr>\n",
       "      <th>87963</th>\n",
       "      <td>31324</td>\n",
       "      <td>1095.04</td>\n",
       "      <td>10018363</td>\n",
       "      <td>4/5/2014</td>\n",
       "      <td>2423.1792</td>\n",
       "      <td>4/5/2014</td>\n",
       "      <td>231300</td>\n",
       "      <td>Big Time Frozen Cheese Pizza</td>\n",
       "      <td>10403</td>\n",
       "      <td>280.168</td>\n",
       "      <td>324877</td>\n",
       "      <td>4/5/2014</td>\n",
       "      <td>2495.88</td>\n",
       "      <td>13.0</td>\n",
       "      <td>117</td>\n",
       "      <td>False</td>\n",
       "      <td>1120.67</td>\n",
       "    </tr>\n",
       "    <tr>\n",
       "      <th>78897</th>\n",
       "      <td>1289</td>\n",
       "      <td>336.94</td>\n",
       "      <td>10018363</td>\n",
       "      <td>1/4/2014</td>\n",
       "      <td>745.5936</td>\n",
       "      <td>1/4/2014</td>\n",
       "      <td>219787</td>\n",
       "      <td>Big Time Frozen Cheese Pizza</td>\n",
       "      <td>10403</td>\n",
       "      <td>86.204</td>\n",
       "      <td>316012</td>\n",
       "      <td>1/4/2014</td>\n",
       "      <td>767.96</td>\n",
       "      <td>4.0</td>\n",
       "      <td>117</td>\n",
       "      <td>False</td>\n",
       "      <td>344.82</td>\n",
       "    </tr>\n",
       "    <tr>\n",
       "      <th>64308</th>\n",
       "      <td>80282</td>\n",
       "      <td>1326.48</td>\n",
       "      <td>10013238</td>\n",
       "      <td>9/10/2013</td>\n",
       "      <td>1772.2980</td>\n",
       "      <td>9/10/2013</td>\n",
       "      <td>112523</td>\n",
       "      <td>Better Beef Soup</td>\n",
       "      <td>10338</td>\n",
       "      <td>445.820</td>\n",
       "      <td>205872</td>\n",
       "      <td>9/10/2013</td>\n",
       "      <td>1772.30</td>\n",
       "      <td>20.0</td>\n",
       "      <td>117</td>\n",
       "      <td>True</td>\n",
       "      <td>-0.00</td>\n",
       "    </tr>\n",
       "  </tbody>\n",
       "</table>\n",
       "</div>"
      ],
      "text/plain": [
       "        %KEY     Cost  Customer Number       Date  GrossSales Invoice Date  \\\n",
       "78421    306  7328.36         10018363   1/1/2014  16216.6608     1/1/2014   \n",
       "81126   8107  3622.06         10018363  1/28/2014   8015.1312    1/28/2014   \n",
       "83654  16768  3622.06         10018363  2/21/2014   7597.6743    2/21/2014   \n",
       "78418    303  2779.72         10018363   1/1/2014   6151.1472     1/1/2014   \n",
       "81398   9082  2105.85         10018363  1/30/2014   4659.9600    1/30/2014   \n",
       "93858  51820  1950.21         10018363   6/3/2014   4287.1632     6/3/2014   \n",
       "81581   9553  1600.45         10018363  1/31/2014   3541.5696    1/31/2014   \n",
       "87545  30755  1600.45         10018363   4/3/2014   3541.5696     4/3/2014   \n",
       "78495    581  1600.45         10018363   1/2/2014   3541.5696     1/2/2014   \n",
       "87963  31324  1095.04         10018363   4/5/2014   2423.1792     4/5/2014   \n",
       "78897   1289   336.94         10018363   1/4/2014    745.5936     1/4/2014   \n",
       "64308  80282  1326.48         10013238  9/10/2013   1772.2980    9/10/2013   \n",
       "\n",
       "       Invoice Number                     Item Desc  Item Number    Margin  \\\n",
       "78421          219351  Big Time Frozen Cheese Pizza        10403  1874.960   \n",
       "81126          221741  Big Time Frozen Cheese Pizza        10403   926.704   \n",
       "83654          223954  Big Time Frozen Cheese Pizza        10403   840.708   \n",
       "78418          219352  Big Time Frozen Cheese Pizza        10403   711.192   \n",
       "81398          221991  Big Time Frozen Cheese Pizza        10403   538.782   \n",
       "93858          204496  Big Time Frozen Cheese Pizza        10403   493.112   \n",
       "81581          222118  Big Time Frozen Cheese Pizza        10403   409.474   \n",
       "87545          231061  Big Time Frozen Cheese Pizza        10403   409.474   \n",
       "78495          219549  Big Time Frozen Cheese Pizza        10403   409.474   \n",
       "87963          231300  Big Time Frozen Cheese Pizza        10403   280.168   \n",
       "78897          219787  Big Time Frozen Cheese Pizza        10403    86.204   \n",
       "64308          112523              Better Beef Soup        10338   445.820   \n",
       "\n",
       "       Order Number Promised Delivery Date     Sales  Sales Qty  Sales Rep ID  \\\n",
       "78421        316007               1/1/2014  16703.16       87.0           117   \n",
       "81126        316004              1/28/2014   8255.58       43.0           117   \n",
       "83654        318728              2/21/2014   7825.60       43.0           117   \n",
       "78418        316014               1/1/2014   6335.68       33.0           117   \n",
       "81398        316000              1/30/2014   4799.76       25.0           117   \n",
       "93858        302396               6/3/2014   4415.77       23.0           117   \n",
       "81581        316003               2/1/2014   3647.82       19.0           117   \n",
       "87545        324872               4/3/2014   3647.82       19.0           117   \n",
       "78495        316008               1/2/2014   3647.82       19.0           117   \n",
       "87963        324877               4/5/2014   2495.88       13.0           117   \n",
       "78897        316012               1/4/2014    767.96        4.0           117   \n",
       "64308        205872              9/10/2013   1772.30       20.0           117   \n",
       "\n",
       "       margin_integrity  margin_difference  \n",
       "78421             False            7499.84  \n",
       "81126             False            3706.82  \n",
       "83654             False            3362.83  \n",
       "78418             False            2844.77  \n",
       "81398             False            2155.13  \n",
       "93858             False            1972.45  \n",
       "81581             False            1637.90  \n",
       "87545             False            1637.90  \n",
       "78495             False            1637.90  \n",
       "87963             False            1120.67  \n",
       "78897             False             344.82  \n",
       "64308              True              -0.00  "
      ]
     },
     "execution_count": 37,
     "metadata": {},
     "output_type": "execute_result"
    }
   ],
   "source": [
    "#the 'Margin' column is short of the real margin (Sales - Cost) on 11 occasions by varying amounts from 344.8 to 7499.84\n",
    "#df shows this below\n",
    "sales.sort_values(by='margin_difference', ascending=False).head(12)\n",
    "#on no occasions is 'Margin' column more than the real margin (Sales - Cost)\n",
    "#I would raise this with the business to ascertain the real-world figures that the business has seen for these entries\n",
    "#and to ascertain what was the cause of these 11 data entries being erroneous\n",
    "#but for the purposes of this analysis, 11 entries out of 96466 can be sacrificed as it is only a 0.011% data loss"
   ]
  },
  {
   "cell_type": "code",
   "execution_count": 49,
   "id": "387fd2c9",
   "metadata": {
    "scrolled": true
   },
   "outputs": [],
   "source": [
    "#dropping the 11 erroneous 'Margin' rows\n",
    "sales.drop(sales[sales['margin_integrity'] == False].index, inplace=True)"
   ]
  },
  {
   "cell_type": "code",
   "execution_count": 51,
   "id": "f86c72f5",
   "metadata": {},
   "outputs": [
    {
     "data": {
      "text/html": [
       "<div>\n",
       "<style scoped>\n",
       "    .dataframe tbody tr th:only-of-type {\n",
       "        vertical-align: middle;\n",
       "    }\n",
       "\n",
       "    .dataframe tbody tr th {\n",
       "        vertical-align: top;\n",
       "    }\n",
       "\n",
       "    .dataframe thead th {\n",
       "        text-align: right;\n",
       "    }\n",
       "</style>\n",
       "<table border=\"1\" class=\"dataframe\">\n",
       "  <thead>\n",
       "    <tr style=\"text-align: right;\">\n",
       "      <th></th>\n",
       "      <th>%KEY</th>\n",
       "      <th>Cost</th>\n",
       "      <th>Customer Number</th>\n",
       "      <th>Date</th>\n",
       "      <th>GrossSales</th>\n",
       "      <th>Invoice Date</th>\n",
       "      <th>Invoice Number</th>\n",
       "      <th>Item Desc</th>\n",
       "      <th>Item Number</th>\n",
       "      <th>Margin</th>\n",
       "      <th>Order Number</th>\n",
       "      <th>Promised Delivery Date</th>\n",
       "      <th>Sales</th>\n",
       "      <th>Sales Qty</th>\n",
       "      <th>Sales Rep ID</th>\n",
       "      <th>margin_integrity</th>\n",
       "      <th>margin_difference</th>\n",
       "    </tr>\n",
       "  </thead>\n",
       "  <tbody>\n",
       "  </tbody>\n",
       "</table>\n",
       "</div>"
      ],
      "text/plain": [
       "Empty DataFrame\n",
       "Columns: [%KEY, Cost, Customer Number, Date, GrossSales, Invoice Date, Invoice Number, Item Desc, Item Number, Margin, Order Number, Promised Delivery Date, Sales, Sales Qty, Sales Rep ID, margin_integrity, margin_difference]\n",
       "Index: []"
      ]
     },
     "execution_count": 51,
     "metadata": {},
     "output_type": "execute_result"
    }
   ],
   "source": [
    "#checking that the drop worked\n",
    "sales[sales['margin_integrity'] == False]"
   ]
  },
  {
   "cell_type": "markdown",
   "id": "b294a44f",
   "metadata": {},
   "source": [
    "sales_rep erroneous:"
   ]
  },
  {
   "cell_type": "code",
   "execution_count": 38,
   "id": "e67cd2f4",
   "metadata": {
    "scrolled": true
   },
   "outputs": [
    {
     "data": {
      "text/html": [
       "<div>\n",
       "<style scoped>\n",
       "    .dataframe tbody tr th:only-of-type {\n",
       "        vertical-align: middle;\n",
       "    }\n",
       "\n",
       "    .dataframe tbody tr th {\n",
       "        vertical-align: top;\n",
       "    }\n",
       "\n",
       "    .dataframe thead th {\n",
       "        text-align: right;\n",
       "    }\n",
       "</style>\n",
       "<table border=\"1\" class=\"dataframe\">\n",
       "  <thead>\n",
       "    <tr style=\"text-align: right;\">\n",
       "      <th></th>\n",
       "      <th>Manager Number</th>\n",
       "      <th>Sales Rep ID</th>\n",
       "    </tr>\n",
       "  </thead>\n",
       "  <tbody>\n",
       "    <tr>\n",
       "      <th>count</th>\n",
       "      <td>64.000000</td>\n",
       "      <td>64.000000</td>\n",
       "    </tr>\n",
       "    <tr>\n",
       "      <th>mean</th>\n",
       "      <td>144.984375</td>\n",
       "      <td>143.515625</td>\n",
       "    </tr>\n",
       "    <tr>\n",
       "      <th>std</th>\n",
       "      <td>27.551679</td>\n",
       "      <td>25.038378</td>\n",
       "    </tr>\n",
       "    <tr>\n",
       "      <th>min</th>\n",
       "      <td>104.000000</td>\n",
       "      <td>103.000000</td>\n",
       "    </tr>\n",
       "    <tr>\n",
       "      <th>25%</th>\n",
       "      <td>118.000000</td>\n",
       "      <td>119.750000</td>\n",
       "    </tr>\n",
       "    <tr>\n",
       "      <th>50%</th>\n",
       "      <td>144.500000</td>\n",
       "      <td>144.500000</td>\n",
       "    </tr>\n",
       "    <tr>\n",
       "      <th>75%</th>\n",
       "      <td>169.000000</td>\n",
       "      <td>163.750000</td>\n",
       "    </tr>\n",
       "    <tr>\n",
       "      <th>max</th>\n",
       "      <td>185.000000</td>\n",
       "      <td>185.000000</td>\n",
       "    </tr>\n",
       "  </tbody>\n",
       "</table>\n",
       "</div>"
      ],
      "text/plain": [
       "       Manager Number  Sales Rep ID\n",
       "count       64.000000     64.000000\n",
       "mean       144.984375    143.515625\n",
       "std         27.551679     25.038378\n",
       "min        104.000000    103.000000\n",
       "25%        118.000000    119.750000\n",
       "50%        144.500000    144.500000\n",
       "75%        169.000000    163.750000\n",
       "max        185.000000    185.000000"
      ]
     },
     "execution_count": 38,
     "metadata": {},
     "output_type": "execute_result"
    }
   ],
   "source": [
    "sales_rep.describe()\n",
    "#looks good, the Sales Rep ID range is uniform with the range in the sales df"
   ]
  },
  {
   "cell_type": "markdown",
   "id": "dbce7d77",
   "metadata": {},
   "source": [
    "### Comparing df's:"
   ]
  },
  {
   "cell_type": "code",
   "execution_count": 53,
   "id": "ee6b3fc3",
   "metadata": {
    "scrolled": false
   },
   "outputs": [
    {
     "name": "stdout",
     "output_type": "stream",
     "text": [
      "DF SHAPES\n",
      "cities: (100, 6)\n",
      "customers: (683, 3)\n",
      "item_master: (827, 5)\n",
      "sales: (96455, 17)\n",
      "sales_rep: (64, 8)\n"
     ]
    }
   ],
   "source": [
    "print(f\"\"\"DF SHAPES\n",
    "cities: {cities.shape}\n",
    "customers: {customers.shape}\n",
    "item_master: {item_master.shape}\n",
    "sales: {sales.shape}\n",
    "sales_rep: {sales_rep.shape}\"\"\")"
   ]
  },
  {
   "cell_type": "code",
   "execution_count": 54,
   "id": "8bb25db1",
   "metadata": {
    "scrolled": false
   },
   "outputs": [
    {
     "data": {
      "text/html": [
       "<div>\n",
       "<style scoped>\n",
       "    .dataframe tbody tr th:only-of-type {\n",
       "        vertical-align: middle;\n",
       "    }\n",
       "\n",
       "    .dataframe tbody tr th {\n",
       "        vertical-align: top;\n",
       "    }\n",
       "\n",
       "    .dataframe thead th {\n",
       "        text-align: right;\n",
       "    }\n",
       "</style>\n",
       "<table border=\"1\" class=\"dataframe\">\n",
       "  <thead>\n",
       "    <tr style=\"text-align: right;\">\n",
       "      <th></th>\n",
       "      <th>City</th>\n",
       "      <th>City Code</th>\n",
       "      <th>Region</th>\n",
       "      <th>Latitude</th>\n",
       "      <th>Longitude</th>\n",
       "      <th>Desc</th>\n",
       "    </tr>\n",
       "  </thead>\n",
       "  <tbody>\n",
       "    <tr>\n",
       "      <th>0</th>\n",
       "      <td>New York</td>\n",
       "      <td>1</td>\n",
       "      <td>USA</td>\n",
       "      <td>40.730599</td>\n",
       "      <td>-73.986581</td>\n",
       "      <td>\"New York City, NY, US\"</td>\n",
       "    </tr>\n",
       "    <tr>\n",
       "      <th>1</th>\n",
       "      <td>Los Angeles</td>\n",
       "      <td>2</td>\n",
       "      <td>USA</td>\n",
       "      <td>34.053678</td>\n",
       "      <td>-118.242702</td>\n",
       "      <td>\"Los Angeles, Los Angeles County, CA, US\"</td>\n",
       "    </tr>\n",
       "  </tbody>\n",
       "</table>\n",
       "</div>"
      ],
      "text/plain": [
       "          City  City Code Region   Latitude   Longitude  \\\n",
       "0     New York          1    USA  40.730599  -73.986581   \n",
       "1  Los Angeles          2    USA  34.053678 -118.242702   \n",
       "\n",
       "                                        Desc  \n",
       "0                    \"New York City, NY, US\"  \n",
       "1  \"Los Angeles, Los Angeles County, CA, US\"  "
      ]
     },
     "metadata": {},
     "output_type": "display_data"
    },
    {
     "data": {
      "text/html": [
       "<div>\n",
       "<style scoped>\n",
       "    .dataframe tbody tr th:only-of-type {\n",
       "        vertical-align: middle;\n",
       "    }\n",
       "\n",
       "    .dataframe tbody tr th {\n",
       "        vertical-align: top;\n",
       "    }\n",
       "\n",
       "    .dataframe thead th {\n",
       "        text-align: right;\n",
       "    }\n",
       "</style>\n",
       "<table border=\"1\" class=\"dataframe\">\n",
       "  <thead>\n",
       "    <tr style=\"text-align: right;\">\n",
       "      <th></th>\n",
       "      <th>Customer</th>\n",
       "      <th>Customer Number</th>\n",
       "      <th>City Code</th>\n",
       "    </tr>\n",
       "  </thead>\n",
       "  <tbody>\n",
       "    <tr>\n",
       "      <th>0</th>\n",
       "      <td>A Superior System</td>\n",
       "      <td>10000453</td>\n",
       "      <td>1</td>\n",
       "    </tr>\n",
       "    <tr>\n",
       "      <th>1</th>\n",
       "      <td>A&amp;B</td>\n",
       "      <td>10000456</td>\n",
       "      <td>76</td>\n",
       "    </tr>\n",
       "  </tbody>\n",
       "</table>\n",
       "</div>"
      ],
      "text/plain": [
       "            Customer  Customer Number  City Code\n",
       "0  A Superior System         10000453          1\n",
       "1                A&B         10000456         76"
      ]
     },
     "metadata": {},
     "output_type": "display_data"
    },
    {
     "data": {
      "text/html": [
       "<div>\n",
       "<style scoped>\n",
       "    .dataframe tbody tr th:only-of-type {\n",
       "        vertical-align: middle;\n",
       "    }\n",
       "\n",
       "    .dataframe tbody tr th {\n",
       "        vertical-align: top;\n",
       "    }\n",
       "\n",
       "    .dataframe thead th {\n",
       "        text-align: right;\n",
       "    }\n",
       "</style>\n",
       "<table border=\"1\" class=\"dataframe\">\n",
       "  <thead>\n",
       "    <tr style=\"text-align: right;\">\n",
       "      <th></th>\n",
       "      <th>Item Number</th>\n",
       "      <th>Product Group</th>\n",
       "      <th>Product Line</th>\n",
       "      <th>Product Sub Group</th>\n",
       "      <th>Product Type</th>\n",
       "    </tr>\n",
       "  </thead>\n",
       "  <tbody>\n",
       "    <tr>\n",
       "      <th>0</th>\n",
       "      <td>10001</td>\n",
       "      <td>Beverages</td>\n",
       "      <td>Drink</td>\n",
       "      <td>Juice</td>\n",
       "      <td>Pure Juice Beverages</td>\n",
       "    </tr>\n",
       "    <tr>\n",
       "      <th>1</th>\n",
       "      <td>10002</td>\n",
       "      <td>Beverages</td>\n",
       "      <td>Drink</td>\n",
       "      <td>Flavored Drinks</td>\n",
       "      <td>Drinks</td>\n",
       "    </tr>\n",
       "  </tbody>\n",
       "</table>\n",
       "</div>"
      ],
      "text/plain": [
       "   Item Number Product Group Product Line Product Sub Group  \\\n",
       "0        10001     Beverages        Drink             Juice   \n",
       "1        10002     Beverages        Drink   Flavored Drinks   \n",
       "\n",
       "           Product Type  \n",
       "0  Pure Juice Beverages  \n",
       "1                Drinks  "
      ]
     },
     "metadata": {},
     "output_type": "display_data"
    },
    {
     "data": {
      "text/html": [
       "<div>\n",
       "<style scoped>\n",
       "    .dataframe tbody tr th:only-of-type {\n",
       "        vertical-align: middle;\n",
       "    }\n",
       "\n",
       "    .dataframe tbody tr th {\n",
       "        vertical-align: top;\n",
       "    }\n",
       "\n",
       "    .dataframe thead th {\n",
       "        text-align: right;\n",
       "    }\n",
       "</style>\n",
       "<table border=\"1\" class=\"dataframe\">\n",
       "  <thead>\n",
       "    <tr style=\"text-align: right;\">\n",
       "      <th></th>\n",
       "      <th>%KEY</th>\n",
       "      <th>Cost</th>\n",
       "      <th>Customer Number</th>\n",
       "      <th>Date</th>\n",
       "      <th>GrossSales</th>\n",
       "      <th>Invoice Date</th>\n",
       "      <th>Invoice Number</th>\n",
       "      <th>Item Desc</th>\n",
       "      <th>Item Number</th>\n",
       "      <th>Margin</th>\n",
       "      <th>Order Number</th>\n",
       "      <th>Promised Delivery Date</th>\n",
       "      <th>Sales</th>\n",
       "      <th>Sales Qty</th>\n",
       "      <th>Sales Rep ID</th>\n",
       "      <th>margin_integrity</th>\n",
       "      <th>margin_difference</th>\n",
       "    </tr>\n",
       "  </thead>\n",
       "  <tbody>\n",
       "    <tr>\n",
       "      <th>0</th>\n",
       "      <td>3428</td>\n",
       "      <td>-513.15</td>\n",
       "      <td>10012226</td>\n",
       "      <td>1/12/2012</td>\n",
       "      <td>-573.3835</td>\n",
       "      <td>1/12/2012</td>\n",
       "      <td>318960</td>\n",
       "      <td>Cutting Edge Sliced Ham</td>\n",
       "      <td>10696</td>\n",
       "      <td>-37.29</td>\n",
       "      <td>115785</td>\n",
       "      <td>1/12/2012</td>\n",
       "      <td>-550.44</td>\n",
       "      <td>-1.0</td>\n",
       "      <td>180</td>\n",
       "      <td>True</td>\n",
       "      <td>-0.0</td>\n",
       "    </tr>\n",
       "    <tr>\n",
       "      <th>1</th>\n",
       "      <td>3429</td>\n",
       "      <td>-105.93</td>\n",
       "      <td>10012226</td>\n",
       "      <td>1/12/2012</td>\n",
       "      <td>-204.6638</td>\n",
       "      <td>1/12/2012</td>\n",
       "      <td>318960</td>\n",
       "      <td>Washington Cranberry Juice</td>\n",
       "      <td>10009</td>\n",
       "      <td>-90.54</td>\n",
       "      <td>115785</td>\n",
       "      <td>1/12/2012</td>\n",
       "      <td>-196.47</td>\n",
       "      <td>-2.0</td>\n",
       "      <td>180</td>\n",
       "      <td>True</td>\n",
       "      <td>0.0</td>\n",
       "    </tr>\n",
       "  </tbody>\n",
       "</table>\n",
       "</div>"
      ],
      "text/plain": [
       "   %KEY    Cost  Customer Number       Date  GrossSales Invoice Date  \\\n",
       "0  3428 -513.15         10012226  1/12/2012   -573.3835    1/12/2012   \n",
       "1  3429 -105.93         10012226  1/12/2012   -204.6638    1/12/2012   \n",
       "\n",
       "   Invoice Number                   Item Desc  Item Number  Margin  \\\n",
       "0          318960     Cutting Edge Sliced Ham        10696  -37.29   \n",
       "1          318960  Washington Cranberry Juice        10009  -90.54   \n",
       "\n",
       "   Order Number Promised Delivery Date   Sales  Sales Qty  Sales Rep ID  \\\n",
       "0        115785              1/12/2012 -550.44       -1.0           180   \n",
       "1        115785              1/12/2012 -196.47       -2.0           180   \n",
       "\n",
       "   margin_integrity  margin_difference  \n",
       "0              True               -0.0  \n",
       "1              True                0.0  "
      ]
     },
     "metadata": {},
     "output_type": "display_data"
    },
    {
     "data": {
      "text/html": [
       "<div>\n",
       "<style scoped>\n",
       "    .dataframe tbody tr th:only-of-type {\n",
       "        vertical-align: middle;\n",
       "    }\n",
       "\n",
       "    .dataframe tbody tr th {\n",
       "        vertical-align: top;\n",
       "    }\n",
       "\n",
       "    .dataframe thead th {\n",
       "        text-align: right;\n",
       "    }\n",
       "</style>\n",
       "<table border=\"1\" class=\"dataframe\">\n",
       "  <thead>\n",
       "    <tr style=\"text-align: right;\">\n",
       "      <th></th>\n",
       "      <th>Manager</th>\n",
       "      <th>Manager Number</th>\n",
       "      <th>Path</th>\n",
       "      <th>Sales Rep Name</th>\n",
       "      <th>Sales Rep Name1</th>\n",
       "      <th>Sales Rep Name2</th>\n",
       "      <th>Sales Rep Name3</th>\n",
       "      <th>Sales Rep ID</th>\n",
       "    </tr>\n",
       "  </thead>\n",
       "  <tbody>\n",
       "    <tr>\n",
       "      <th>0</th>\n",
       "      <td>Amanda Honda</td>\n",
       "      <td>104</td>\n",
       "      <td>Amanda Honda-Amalia Craig</td>\n",
       "      <td>Amalia Craig</td>\n",
       "      <td>Amanda Honda</td>\n",
       "      <td>Amalia Craig</td>\n",
       "      <td>NaN</td>\n",
       "      <td>103</td>\n",
       "    </tr>\n",
       "    <tr>\n",
       "      <th>1</th>\n",
       "      <td>Amanda Honda</td>\n",
       "      <td>104</td>\n",
       "      <td>Amanda Honda-Cart Lynch</td>\n",
       "      <td>Cart Lynch</td>\n",
       "      <td>Amanda Honda</td>\n",
       "      <td>Cart Lynch</td>\n",
       "      <td>NaN</td>\n",
       "      <td>112</td>\n",
       "    </tr>\n",
       "  </tbody>\n",
       "</table>\n",
       "</div>"
      ],
      "text/plain": [
       "        Manager  Manager Number                       Path Sales Rep Name  \\\n",
       "0  Amanda Honda             104  Amanda Honda-Amalia Craig   Amalia Craig   \n",
       "1  Amanda Honda             104    Amanda Honda-Cart Lynch     Cart Lynch   \n",
       "\n",
       "  Sales Rep Name1 Sales Rep Name2 Sales Rep Name3  Sales Rep ID  \n",
       "0    Amanda Honda    Amalia Craig             NaN           103  \n",
       "1    Amanda Honda      Cart Lynch             NaN           112  "
      ]
     },
     "metadata": {},
     "output_type": "display_data"
    }
   ],
   "source": [
    "#comparing dfs visually\n",
    "display(cities.head(2))\n",
    "display(customers.head(2))\n",
    "display(item_master.head(2))\n",
    "display(sales.head(2))\n",
    "display(sales_rep.head(2))"
   ]
  },
  {
   "cell_type": "code",
   "execution_count": null,
   "id": "e6c02316",
   "metadata": {},
   "outputs": [],
   "source": [
    "#The columns that won't be needed, to remove after joining dfs:\n",
    "#Latitude\n",
    "#Longitude\n",
    "#Desc\n",
    "#%KEY\n",
    "#GrossSales\n",
    "#Invoice Date\n",
    "#Invoice Number\n",
    "#Order Number\n",
    "#Promised Delivery Date\n",
    "#margin_integrity\n",
    "#margin_difference"
   ]
  },
  {
   "cell_type": "markdown",
   "id": "6a338c63",
   "metadata": {},
   "source": [
    "### Merging dfs:"
   ]
  },
  {
   "cell_type": "markdown",
   "id": "ec0362f8",
   "metadata": {},
   "source": [
    "Left merge customers and cities on 'City Code'"
   ]
  },
  {
   "cell_type": "code",
   "execution_count": 55,
   "id": "2e9b8ce6",
   "metadata": {},
   "outputs": [],
   "source": [
    "#joining customers and cities dfs\n",
    "customers_cities = pd.merge(customers, cities, how=\"left\", on='City Code')"
   ]
  },
  {
   "cell_type": "markdown",
   "id": "495652fc",
   "metadata": {},
   "source": [
    "Left merge sales and customers on 'Customer Number'"
   ]
  },
  {
   "cell_type": "code",
   "execution_count": 58,
   "id": "73e662b6",
   "metadata": {},
   "outputs": [],
   "source": [
    "#joining customers_cities and sales\n",
    "cust_cit_sales = pd.merge(sales, customers_cities, how=\"left\", on='Customer Number')"
   ]
  },
  {
   "cell_type": "markdown",
   "id": "cbda6775",
   "metadata": {},
   "source": [
    "Left merge sales and item_master on 'Item Number'"
   ]
  },
  {
   "cell_type": "code",
   "execution_count": 61,
   "id": "1722146d",
   "metadata": {},
   "outputs": [],
   "source": [
    "cust_cit_sales_items = pd.merge(cust_cit_sales, item_master, how=\"left\", on='Item Number')"
   ]
  },
  {
   "cell_type": "markdown",
   "id": "6f4fe2ec",
   "metadata": {},
   "source": [
    "Left merge sales and sales_rep on 'Sales Rep ID'"
   ]
  },
  {
   "cell_type": "code",
   "execution_count": 63,
   "id": "ba3928f4",
   "metadata": {},
   "outputs": [],
   "source": [
    "df = pd.merge(cust_cit_sales_items, sales_rep, how=\"left\", on='Sales Rep ID')"
   ]
  },
  {
   "cell_type": "code",
   "execution_count": 65,
   "id": "7b855ef9",
   "metadata": {},
   "outputs": [
    {
     "data": {
      "text/plain": [
       "Index(['%KEY', 'Cost', 'Customer Number', 'Date', 'GrossSales', 'Invoice Date',\n",
       "       'Invoice Number', 'Item Desc', 'Item Number', 'Margin', 'Order Number',\n",
       "       'Promised Delivery Date', 'Sales', 'Sales Qty', 'Sales Rep ID',\n",
       "       'margin_integrity', 'margin_difference', 'Customer', 'City Code',\n",
       "       'City', 'Region', 'Latitude', 'Longitude', 'Desc', 'Product Group',\n",
       "       'Product Line', 'Product Sub Group', 'Product Type', 'Manager',\n",
       "       'Manager Number', 'Path', 'Sales Rep Name', 'Sales Rep Name1',\n",
       "       'Sales Rep Name2', 'Sales Rep Name3'],\n",
       "      dtype='object')"
      ]
     },
     "execution_count": 65,
     "metadata": {},
     "output_type": "execute_result"
    }
   ],
   "source": [
    "#check columns in the master df:\n",
    "df.columns"
   ]
  },
  {
   "cell_type": "markdown",
   "id": "9e640f74",
   "metadata": {},
   "source": [
    "Left merge sales and sales_rep on 'Sales Rep ID'"
   ]
  },
  {
   "cell_type": "markdown",
   "id": "bd05a3f5",
   "metadata": {},
   "source": [
    "Dropping unecessary columns\n"
   ]
  },
  {
   "cell_type": "code",
   "execution_count": 68,
   "id": "c3e6c713",
   "metadata": {},
   "outputs": [],
   "source": [
    "#define list of the desired columns to remove\n",
    "unecessary_columns = ['Latitude','Longitude','Desc','%KEY','GrossSales','Invoice Date','Invoice Number','Order Number','Promised Delivery Date','margin_integrity','margin_difference']"
   ]
  },
  {
   "cell_type": "code",
   "execution_count": 70,
   "id": "f79c0e87",
   "metadata": {},
   "outputs": [],
   "source": [
    "#performing the drop\n",
    "df.drop(unecessary_columns, axis=1, inplace=True)"
   ]
  },
  {
   "cell_type": "code",
   "execution_count": 77,
   "id": "74092c89",
   "metadata": {
    "scrolled": true
   },
   "outputs": [
    {
     "data": {
      "text/plain": [
       "Index(['Cost', 'Customer Number', 'Date', 'Item Desc', 'Item Number', 'Margin',\n",
       "       'Sales', 'Sales Qty', 'Sales Rep ID', 'Customer', 'City Code', 'City',\n",
       "       'Region', 'Product Group', 'Product Line', 'Product Sub Group',\n",
       "       'Product Type', 'Manager', 'Manager Number', 'Path', 'Sales Rep Name',\n",
       "       'Sales Rep Name1', 'Sales Rep Name2', 'Sales Rep Name3'],\n",
       "      dtype='object')"
      ]
     },
     "execution_count": 77,
     "metadata": {},
     "output_type": "execute_result"
    }
   ],
   "source": [
    "#verify drop\n",
    "df.columns"
   ]
  },
  {
   "cell_type": "markdown",
   "id": "faae0023",
   "metadata": {},
   "source": [
    "Increasing pandas max visibility setting"
   ]
  },
  {
   "cell_type": "code",
   "execution_count": 73,
   "id": "51108e77",
   "metadata": {},
   "outputs": [],
   "source": [
    "pd.set_option('display.max_rows', 100)\n",
    "pd.set_option('display.max_columns', 25)"
   ]
  },
  {
   "cell_type": "markdown",
   "id": "64710fc5",
   "metadata": {},
   "source": [
    "# *Analyse and Interpret:*"
   ]
  },
  {
   "cell_type": "markdown",
   "id": "0c22be8b",
   "metadata": {},
   "source": [
    "*Refined analysis frame:*\n",
    "- 10 most profitable items\n",
    "- 10 least profitable items\n",
    "- 5 most profitable sales reps\n",
    "- 5 least profitable sales reps\n",
    "- Performance of high volume items vs low volume items\n",
    "- Customer patterns"
   ]
  },
  {
   "cell_type": "markdown",
   "id": "662b30b9",
   "metadata": {},
   "source": [
    "#### Profit investigation:"
   ]
  },
  {
   "cell_type": "markdown",
   "id": "a09d1d69",
   "metadata": {},
   "source": [
    "Total profits by category:"
   ]
  },
  {
   "cell_type": "code",
   "execution_count": 242,
   "id": "e45aa335",
   "metadata": {
    "scrolled": true
   },
   "outputs": [
    {
     "name": "stderr",
     "output_type": "stream",
     "text": [
      "/var/folders/gj/qpz9jvmd3dj2sjqlpbhnx5b80000gn/T/ipykernel_12596/666855935.py:9: UserWarning: FixedFormatter should only be used together with FixedLocator\n",
      "  plt.gca().set_yticklabels(['{:,.0f}'.format(x) for x in current_values])\n"
     ]
    },
    {
     "data": {
      "text/plain": [
       "[Text(0, 0.0, '0'),\n",
       " Text(0, 2000000.0, '2,000,000'),\n",
       " Text(0, 4000000.0, '4,000,000'),\n",
       " Text(0, 6000000.0, '6,000,000'),\n",
       " Text(0, 8000000.0, '8,000,000'),\n",
       " Text(0, 10000000.0, '10,000,000')]"
      ]
     },
     "execution_count": 242,
     "metadata": {},
     "output_type": "execute_result"
    },
    {
     "data": {
      "image/png": "[encoded data removed]",
      "text/plain": [
       "<Figure size 432x288 with 1 Axes>"
      ]
     },
     "metadata": {
      "needs_background": "light"
     },
     "output_type": "display_data"
    }
   ],
   "source": [
    "#broad category profitablity plot\n",
    "df.groupby('Product Group')['Margin'].sum().sort_values(ascending=False).\\\n",
    "plot(kind='bar',\n",
    "     title='Total Profits by Broad Category',\n",
    "     ylabel='Profit')\n",
    "#after plotting the data, store the y-axis ticks\n",
    "current_values = plt.gca().get_yticks()\n",
    "#looping through y-axis ticks with format string '{:.0f}' to remove scientific notation\n",
    "plt.gca().set_yticklabels(['{:,.0f}'.format(x) for x in current_values])"
   ]
  },
  {
   "cell_type": "code",
   "execution_count": null,
   "id": "b318bd83",
   "metadata": {},
   "outputs": [],
   "source": [
    "#the above shows us the overall profitability of each category factoring in all profits and losses\n",
    "#and shows us that across all categories no overall losses have been incurred"
   ]
  },
  {
   "cell_type": "markdown",
   "id": "8fc8556d",
   "metadata": {},
   "source": [
    "Top 10 profitable:"
   ]
  },
  {
   "cell_type": "code",
   "execution_count": 253,
   "id": "f92ed877",
   "metadata": {
    "scrolled": true
   },
   "outputs": [
    {
     "name": "stderr",
     "output_type": "stream",
     "text": [
      "/var/folders/gj/qpz9jvmd3dj2sjqlpbhnx5b80000gn/T/ipykernel_12596/389258227.py:8: UserWarning: FixedFormatter should only be used together with FixedLocator\n",
      "  plt.gca().set_yticklabels(['{:,.0f}'.format(x) for x in current_values])\n"
     ]
    },
    {
     "data": {
      "text/plain": [
       "[Text(0, 0.0, '0'),\n",
       " Text(0, 1000000.0, '1,000,000'),\n",
       " Text(0, 2000000.0, '2,000,000'),\n",
       " Text(0, 3000000.0, '3,000,000'),\n",
       " Text(0, 4000000.0, '4,000,000'),\n",
       " Text(0, 5000000.0, '5,000,000'),\n",
       " Text(0, 6000000.0, '6,000,000'),\n",
       " Text(0, 7000000.0, '7,000,000'),\n",
       " Text(0, 8000000.0, '8,000,000')]"
      ]
     },
     "execution_count": 253,
     "metadata": {},
     "output_type": "execute_result"
    },
    {
     "data": {
      "image/png": "[encoded data removed]",
      "text/plain": [
       "<Figure size 432x288 with 1 Axes>"
      ]
     },
     "metadata": {
      "needs_background": "light"
     },
     "output_type": "display_data"
    }
   ],
   "source": [
    "df.groupby(['Product Group','Product Sub Group'])['Margin'].sum().sort_values(ascending=False).head(10).\\\n",
    "plot(kind='bar',\n",
    "     title='Top 10 Profitable',\n",
    "     ylabel='Profit')\n",
    "#after plotting the data, store the y-axis ticks\n",
    "current_values = plt.gca().get_yticks()\n",
    "#looping through y-axis ticks with format string '{:.0f}' to remove scientific notation\n",
    "plt.gca().set_yticklabels(['{:,.0f}'.format(x) for x in current_values])"
   ]
  },
  {
   "cell_type": "code",
   "execution_count": null,
   "id": "b16d7154",
   "metadata": {},
   "outputs": [],
   "source": [
    "#Observing the above, the top 3 standout profit performers to be:\n",
    "#1. Fresh Vegetables\n",
    "#2. Canned Shrimp\n",
    "#3. Deli Hot Dogs"
   ]
  },
  {
   "cell_type": "markdown",
   "id": "0c12c6b6",
   "metadata": {},
   "source": [
    "Least profitable investigation:"
   ]
  },
  {
   "cell_type": "code",
   "execution_count": 254,
   "id": "7d0201b5",
   "metadata": {
    "scrolled": true
   },
   "outputs": [
    {
     "name": "stderr",
     "output_type": "stream",
     "text": [
      "/var/folders/gj/qpz9jvmd3dj2sjqlpbhnx5b80000gn/T/ipykernel_12596/1512445200.py:8: UserWarning: FixedFormatter should only be used together with FixedLocator\n",
      "  plt.gca().set_yticklabels(['{:,.0f}'.format(x) for x in current_values])\n"
     ]
    },
    {
     "data": {
      "text/plain": [
       "[Text(0, 0.0, '0'),\n",
       " Text(0, 2000.0, '2,000'),\n",
       " Text(0, 4000.0, '4,000'),\n",
       " Text(0, 6000.0, '6,000'),\n",
       " Text(0, 8000.0, '8,000'),\n",
       " Text(0, 10000.0, '10,000'),\n",
       " Text(0, 12000.0, '12,000'),\n",
       " Text(0, 14000.0, '14,000'),\n",
       " Text(0, 16000.0, '16,000'),\n",
       " Text(0, 18000.0, '18,000')]"
      ]
     },
     "execution_count": 254,
     "metadata": {},
     "output_type": "execute_result"
    },
    {
     "data": {
      "image/png": "[encoded data removed]",
      "text/plain": [
       "<Figure size 432x288 with 1 Axes>"
      ]
     },
     "metadata": {
      "needs_background": "light"
     },
     "output_type": "display_data"
    }
   ],
   "source": [
    "df.groupby(['Product Group','Product Sub Group'])['Margin'].sum().sort_values(ascending=False).tail(10).\\\n",
    "plot(kind='bar',\n",
    "     title='10 Least Profitable',\n",
    "     ylabel='Profit')\n",
    "#after plotting the data, store the y-axis ticks\n",
    "current_values = plt.gca().get_yticks()\n",
    "#looping through y-axis ticks with format string '{:.0f}' to remove scientific notation\n",
    "plt.gca().set_yticklabels(['{:,.0f}'.format(x) for x in current_values])"
   ]
  },
  {
   "cell_type": "code",
   "execution_count": null,
   "id": "0e902d31",
   "metadata": {},
   "outputs": [],
   "source": [
    "#Observing the above, even in the least profitable sub-categories\n",
    "#no overall loss is incurred\n",
    "#with the minimum profits being seen with Gum at around 5,000"
   ]
  },
  {
   "cell_type": "markdown",
   "id": "04dfc9aa",
   "metadata": {},
   "source": [
    "#### Sales Rep Investigation:"
   ]
  },
  {
   "cell_type": "markdown",
   "id": "bd3d28c6",
   "metadata": {},
   "source": [
    "Most profitable sales reps"
   ]
  },
  {
   "cell_type": "code",
   "execution_count": 321,
   "id": "8601bc2a",
   "metadata": {},
   "outputs": [
    {
     "name": "stderr",
     "output_type": "stream",
     "text": [
      "/var/folders/gj/qpz9jvmd3dj2sjqlpbhnx5b80000gn/T/ipykernel_12596/1730500273.py:8: UserWarning: FixedFormatter should only be used together with FixedLocator\n",
      "  plt.gca().set_yticklabels(['{:,.0f}'.format(x) for x in current_values])\n"
     ]
    },
    {
     "data": {
      "text/plain": [
       "[Text(0, 0.0, '0'),\n",
       " Text(0, 1000000.0, '1,000,000'),\n",
       " Text(0, 2000000.0, '2,000,000'),\n",
       " Text(0, 3000000.0, '3,000,000'),\n",
       " Text(0, 4000000.0, '4,000,000'),\n",
       " Text(0, 5000000.0, '5,000,000'),\n",
       " Text(0, 6000000.0, '6,000,000'),\n",
       " Text(0, 7000000.0, '7,000,000')]"
      ]
     },
     "execution_count": 321,
     "metadata": {},
     "output_type": "execute_result"
    },
    {
     "data": {
      "image/png": "[encoded data removed]",
      "text/plain": [
       "<Figure size 432x288 with 1 Axes>"
      ]
     },
     "metadata": {
      "needs_background": "light"
     },
     "output_type": "display_data"
    }
   ],
   "source": [
    "df.groupby('Sales Rep Name')['Margin'].sum().sort_values(ascending=False).head(5).\\\n",
    "plot(kind='bar',\n",
    "     title='Top 5 Sales Reps',\n",
    "     ylabel='Profit')\n",
    "#after plotting the data, store the y-axis ticks\n",
    "current_values = plt.gca().get_yticks()\n",
    "#looping through y-axis ticks with format string '{:.0f}' to remove scientific notation\n",
    "plt.gca().set_yticklabels(['{:,.0f}'.format(x) for x in current_values])"
   ]
  },
  {
   "cell_type": "code",
   "execution_count": 307,
   "id": "4d4337f5",
   "metadata": {},
   "outputs": [],
   "source": [
    "#From the above observe that the top 3 Sales Rep performance is a significant step above their counterparts\n",
    "#Lets see what they sell by using this function\n",
    "def reps_top_10_sold(name):\n",
    "    df[df['Sales Rep Name'] == name].value_counts('Product Sub Group').head(10).plot(kind='bar',\n",
    "                                                                                     title=name+\"'s Most Sold\",\n",
    "                                                                                     ylabel='Sales Qty')"
   ]
  },
  {
   "cell_type": "code",
   "execution_count": 310,
   "id": "0f93efa2",
   "metadata": {},
   "outputs": [
    {
     "data": {
      "image/png": "[encoded data removed]",
      "text/plain": [
       "<Figure size 432x288 with 1 Axes>"
      ]
     },
     "metadata": {
      "needs_background": "light"
     },
     "output_type": "display_data"
    }
   ],
   "source": [
    "reps_top_10_sold('Judy Thurman')\n",
    "#Judy is selling high volumes of profitable categories"
   ]
  },
  {
   "cell_type": "code",
   "execution_count": 305,
   "id": "95025937",
   "metadata": {},
   "outputs": [
    {
     "data": {
      "image/png": "[encoded data removed]",
      "text/plain": [
       "<Figure size 432x288 with 1 Axes>"
      ]
     },
     "metadata": {
      "needs_background": "light"
     },
     "output_type": "display_data"
    }
   ],
   "source": [
    "reps_top_10_sold('Stewart Wind')\n",
    "#Stewart is selling very high volumes of profitable categories"
   ]
  },
  {
   "cell_type": "code",
   "execution_count": 306,
   "id": "1d37c596",
   "metadata": {
    "scrolled": true
   },
   "outputs": [
    {
     "data": {
      "image/png": "[encoded data removed]",
      "text/plain": [
       "<Figure size 432x288 with 1 Axes>"
      ]
     },
     "metadata": {
      "needs_background": "light"
     },
     "output_type": "display_data"
    }
   ],
   "source": [
    "reps_top_10_sold('Lee Chin')\n",
    "#Lee is selling a high volume of the most profitable category and a disproportionate low volume of other categories"
   ]
  },
  {
   "cell_type": "code",
   "execution_count": null,
   "id": "334b17d4",
   "metadata": {},
   "outputs": [],
   "source": [
    "#as expected the 3 most profitable sales reps all have in common high volumes of Fresh Vegetable sales"
   ]
  },
  {
   "cell_type": "markdown",
   "id": "32da6b7e",
   "metadata": {},
   "source": [
    "Least profitable sales reps"
   ]
  },
  {
   "cell_type": "code",
   "execution_count": 320,
   "id": "13f1c1e7",
   "metadata": {},
   "outputs": [
    {
     "name": "stderr",
     "output_type": "stream",
     "text": [
      "/var/folders/gj/qpz9jvmd3dj2sjqlpbhnx5b80000gn/T/ipykernel_12596/3709436293.py:8: UserWarning: FixedFormatter should only be used together with FixedLocator\n",
      "  plt.gca().set_yticklabels(['{:,.0f}'.format(x) for x in current_values])\n"
     ]
    },
    {
     "data": {
      "text/plain": [
       "[Text(0, 0.0, '0'),\n",
       " Text(0, 10000.0, '10,000'),\n",
       " Text(0, 20000.0, '20,000'),\n",
       " Text(0, 30000.0, '30,000'),\n",
       " Text(0, 40000.0, '40,000'),\n",
       " Text(0, 50000.0, '50,000'),\n",
       " Text(0, 60000.0, '60,000'),\n",
       " Text(0, 70000.0, '70,000')]"
      ]
     },
     "execution_count": 320,
     "metadata": {},
     "output_type": "execute_result"
    },
    {
     "data": {
      "image/png": "[encoded data removed]",
      "text/plain": [
       "<Figure size 432x288 with 1 Axes>"
      ]
     },
     "metadata": {
      "needs_background": "light"
     },
     "output_type": "display_data"
    }
   ],
   "source": [
    "df.groupby('Sales Rep Name')['Margin'].sum().sort_values(ascending=False).tail(5).\\\n",
    "plot(kind='bar',\n",
    "     title='5 Least Profitable Sales Reps',\n",
    "     ylabel='Profit')\n",
    "#after plotting the data, store the y-axis ticks\n",
    "current_values = plt.gca().get_yticks()\n",
    "#looping through y-axis ticks with format string '{:.0f}' to remove scientific notation\n",
    "plt.gca().set_yticklabels(['{:,.0f}'.format(x) for x in current_values])"
   ]
  },
  {
   "cell_type": "code",
   "execution_count": 307,
   "id": "afb8970f",
   "metadata": {},
   "outputs": [],
   "source": [
    "#The sales rep generating the least profits is is generating about 12000\n",
    "#Lets analyse what the bottom 3 sales reps tend to sell the most of\n",
    "def reps_top_10_sold(name):\n",
    "    df[df['Sales Rep Name'] == name].value_counts('Product Sub Group').head(10).plot(kind='bar',\n",
    "                                                                                     title=name+\"'s Most Sold\",\n",
    "                                                                                     ylabel='Sales Qty')"
   ]
  },
  {
   "cell_type": "code",
   "execution_count": 316,
   "id": "db9b9113",
   "metadata": {},
   "outputs": [
    {
     "data": {
      "image/png": "[encoded data removed]",
      "text/plain": [
       "<Figure size 432x288 with 1 Axes>"
      ]
     },
     "metadata": {
      "needs_background": "light"
     },
     "output_type": "display_data"
    }
   ],
   "source": [
    "reps_top_10_sold('Lisa Taylor')\n",
    "#Lisa is selling medium to low overall volumes, but mainly of products of low profitability items"
   ]
  },
  {
   "cell_type": "code",
   "execution_count": 317,
   "id": "db4ea362",
   "metadata": {},
   "outputs": [
    {
     "data": {
      "image/png": "[encoded data removed]",
      "text/plain": [
       "<Figure size 432x288 with 1 Axes>"
      ]
     },
     "metadata": {
      "needs_background": "light"
     },
     "output_type": "display_data"
    }
   ],
   "source": [
    "reps_top_10_sold('Samantha Allen')\n",
    "#Samantha is selling medium to low overall volumes, and mainly of products of low profitability items"
   ]
  },
  {
   "cell_type": "code",
   "execution_count": 318,
   "id": "16a9b084",
   "metadata": {
    "scrolled": true
   },
   "outputs": [
    {
     "data": {
      "image/png": "[encoded data removed]",
      "text/plain": [
       "<Figure size 432x288 with 1 Axes>"
      ]
     },
     "metadata": {
      "needs_background": "light"
     },
     "output_type": "display_data"
    }
   ],
   "source": [
    "reps_top_10_sold('Craig Lary')\n",
    "#Craig is a high volume of the most profitable category and medium volumes of low profitability items"
   ]
  },
  {
   "cell_type": "markdown",
   "id": "726891d7",
   "metadata": {},
   "source": [
    "#### Volume vs Profitability relationship"
   ]
  },
  {
   "cell_type": "code",
   "execution_count": 337,
   "id": "17014070",
   "metadata": {},
   "outputs": [
    {
     "data": {
      "text/plain": [
       "<AxesSubplot:title={'center':'Sales Volumes vs Profitability Relationship'}, xlabel='Margin', ylabel='Sales Qty'>"
      ]
     },
     "execution_count": 337,
     "metadata": {},
     "output_type": "execute_result"
    },
    {
     "data": {
      "image/png": "[encoded data removed]",
      "text/plain": [
       "<Figure size 432x288 with 1 Axes>"
      ]
     },
     "metadata": {
      "needs_background": "light"
     },
     "output_type": "display_data"
    }
   ],
   "source": [
    "df.plot(kind='scatter',x='Margin',y='Sales Qty',\n",
    "     title='Sales Volumes vs Profitability Relationship')"
   ]
  },
  {
   "cell_type": "markdown",
   "id": "6ad3ae4e",
   "metadata": {},
   "source": [
    "We can ascertain from the above that there is a positive correlation between item sales volume and profitability\n",
    "this plot illustrates that the higher sales volume items are also the highest profitability items\n",
    "\n",
    "This plot also provides insights that 2 other volume/profitability vectors exist:\n",
    "1. Near vertical vector of low-medium volume items (2500-7500 qty) with around break-even profitability\n",
    "2. Near horizontal vector of lower volume items (0-2500 qty), which are densely delivering low profitability at low-volumes, and exponentially profitability along the vector as the volume slightly increases"
   ]
  },
  {
   "cell_type": "code",
   "execution_count": null,
   "id": "0973d74b",
   "metadata": {},
   "outputs": [],
   "source": [
    "#look into the products at the 0-2500 qty / 50,000-120,000 sweet spot range"
   ]
  },
  {
   "cell_type": "markdown",
   "id": "a65c31dc",
   "metadata": {},
   "source": [
    "#### Customer patterns"
   ]
  },
  {
   "cell_type": "code",
   "execution_count": 347,
   "id": "ba70205b",
   "metadata": {
    "scrolled": true
   },
   "outputs": [
    {
     "name": "stderr",
     "output_type": "stream",
     "text": [
      "/var/folders/gj/qpz9jvmd3dj2sjqlpbhnx5b80000gn/T/ipykernel_12596/874463245.py:8: UserWarning: FixedFormatter should only be used together with FixedLocator\n",
      "  plt.gca().set_yticklabels(['{:,.0f}'.format(x) for x in current_values])\n"
     ]
    },
    {
     "data": {
      "text/plain": [
       "[Text(0, 0.0, '0'),\n",
       " Text(0, 500000.0, '500,000'),\n",
       " Text(0, 1000000.0, '1,000,000'),\n",
       " Text(0, 1500000.0, '1,500,000'),\n",
       " Text(0, 2000000.0, '2,000,000'),\n",
       " Text(0, 2500000.0, '2,500,000'),\n",
       " Text(0, 3000000.0, '3,000,000')]"
      ]
     },
     "execution_count": 347,
     "metadata": {},
     "output_type": "execute_result"
    },
    {
     "data": {
      "image/png": "[encoded data removed]",
      "text/plain": [
       "<Figure size 432x288 with 1 Axes>"
      ]
     },
     "metadata": {
      "needs_background": "light"
     },
     "output_type": "display_data"
    }
   ],
   "source": [
    "df.groupby(['Customer Number','Region'])['Margin'].sum().sort_values(ascending=False).head(10).\\\n",
    "plot(kind='bar',\n",
    "     title='Top 10 Customers by Margin',\n",
    "     ylabel='Profit')\n",
    "#after plotting the data, store the y-axis ticks\n",
    "current_values = plt.gca().get_yticks()\n",
    "#looping through y-axis ticks with format string '{:.0f}' to remove scientific notation\n",
    "plt.gca().set_yticklabels(['{:,.0f}'.format(x) for x in current_values])"
   ]
  },
  {
   "cell_type": "markdown",
   "id": "f9605169",
   "metadata": {},
   "source": [
    "From the above we can ascertain:\n",
    "- the highest profits are from 2 UK customers\n",
    "- the second highest profits are from 5 USA customers"
   ]
  },
  {
   "cell_type": "code",
   "execution_count": 350,
   "id": "9485b576",
   "metadata": {
    "scrolled": false
   },
   "outputs": [
    {
     "name": "stderr",
     "output_type": "stream",
     "text": [
      "/var/folders/gj/qpz9jvmd3dj2sjqlpbhnx5b80000gn/T/ipykernel_12596/3488971480.py:8: UserWarning: FixedFormatter should only be used together with FixedLocator\n",
      "  plt.gca().set_yticklabels(['{:,.0f}'.format(x) for x in current_values])\n"
     ]
    },
    {
     "data": {
      "text/plain": [
       "[Text(0, 0.0, '0'),\n",
       " Text(0, 2500000.0, '2,500,000'),\n",
       " Text(0, 5000000.0, '5,000,000'),\n",
       " Text(0, 7500000.0, '7,500,000'),\n",
       " Text(0, 10000000.0, '10,000,000'),\n",
       " Text(0, 12500000.0, '12,500,000'),\n",
       " Text(0, 15000000.0, '15,000,000'),\n",
       " Text(0, 17500000.0, '17,500,000'),\n",
       " Text(0, 20000000.0, '20,000,000')]"
      ]
     },
     "execution_count": 350,
     "metadata": {},
     "output_type": "execute_result"
    },
    {
     "data": {
      "image/png": "[encoded data removed]",
      "text/plain": [
       "<Figure size 432x288 with 1 Axes>"
      ]
     },
     "metadata": {
      "needs_background": "light"
     },
     "output_type": "display_data"
    }
   ],
   "source": [
    "df.groupby('Region')['Margin'].sum().sort_values(ascending=False).head(6).\\\n",
    "plot(kind='bar',\n",
    "     title='Top 6 Regions by Margin',\n",
    "     ylabel='Profit')\n",
    "#after plotting the data, store the y-axis ticks\n",
    "current_values = plt.gca().get_yticks()\n",
    "#looping through y-axis ticks with format string '{:.0f}' to remove scientific notation\n",
    "plt.gca().set_yticklabels(['{:,.0f}'.format(x) for x in current_values])"
   ]
  },
  {
   "cell_type": "markdown",
   "id": "01358111",
   "metadata": {},
   "source": [
    "From the above we ascertain:\n",
    "- There may be opportunities to increase the profitability in UK, Japan, Nordic, Spain, Germany"
   ]
  },
  {
   "cell_type": "code",
   "execution_count": 352,
   "id": "edf2aa60",
   "metadata": {},
   "outputs": [
    {
     "name": "stderr",
     "output_type": "stream",
     "text": [
      "/var/folders/gj/qpz9jvmd3dj2sjqlpbhnx5b80000gn/T/ipykernel_12596/2154098518.py:8: UserWarning: FixedFormatter should only be used together with FixedLocator\n",
      "  plt.gca().set_yticklabels(['{:,.0f}'.format(x) for x in current_values])\n"
     ]
    },
    {
     "data": {
      "text/plain": [
       "[Text(0, 0.0, '0'),\n",
       " Text(0, 200000.0, '200,000'),\n",
       " Text(0, 400000.0, '400,000'),\n",
       " Text(0, 600000.0, '600,000'),\n",
       " Text(0, 800000.0, '800,000'),\n",
       " Text(0, 1000000.0, '1,000,000'),\n",
       " Text(0, 1200000.0, '1,200,000')]"
      ]
     },
     "execution_count": 352,
     "metadata": {},
     "output_type": "execute_result"
    },
    {
     "data": {
      "image/png": "[encoded data removed]",
      "text/plain": [
       "<Figure size 432x288 with 1 Axes>"
      ]
     },
     "metadata": {
      "needs_background": "light"
     },
     "output_type": "display_data"
    }
   ],
   "source": [
    "df.groupby('Region')['Sales Qty'].sum().sort_values(ascending=False).head(6).\\\n",
    "plot(kind='bar',\n",
    "     title='Top 6 Regions by Volume',\n",
    "     ylabel='Volume')\n",
    "#after plotting the data, store the y-axis ticks\n",
    "current_values = plt.gca().get_yticks()\n",
    "#looping through y-axis ticks with format string '{:.0f}' to remove scientific notation\n",
    "plt.gca().set_yticklabels(['{:,.0f}'.format(x) for x in current_values])"
   ]
  },
  {
   "cell_type": "markdown",
   "id": "7a998eed",
   "metadata": {},
   "source": [
    "- USA has the highest sales volumes, and also the highest profitability, so it would be the significant contributor to the positive volume/profitability correlation we saw in the scatter plot\n",
    "- UK is a highly profitable region but has relatively low sales volume. An opportunity for the business which may overtake USA profitability if the current profit/volume ratio remains true"
   ]
  },
  {
   "cell_type": "code",
   "execution_count": 364,
   "id": "e090a945",
   "metadata": {},
   "outputs": [
    {
     "name": "stderr",
     "output_type": "stream",
     "text": [
      "/var/folders/gj/qpz9jvmd3dj2sjqlpbhnx5b80000gn/T/ipykernel_12596/3691673269.py:8: UserWarning: FixedFormatter should only be used together with FixedLocator\n",
      "  plt.gca().set_yticklabels(['{:,.0f}'.format(x) for x in current_values])\n"
     ]
    },
    {
     "data": {
      "text/plain": [
       "[Text(0, 0.0, '0'),\n",
       " Text(0, 500.0, '500'),\n",
       " Text(0, 1000.0, '1,000'),\n",
       " Text(0, 1500.0, '1,500'),\n",
       " Text(0, 2000.0, '2,000'),\n",
       " Text(0, 2500.0, '2,500'),\n",
       " Text(0, 3000.0, '3,000')]"
      ]
     },
     "execution_count": 364,
     "metadata": {},
     "output_type": "execute_result"
    },
    {
     "data": {
      "image/png": "[encoded data removed]",
      "text/plain": [
       "<Figure size 432x288 with 1 Axes>"
      ]
     },
     "metadata": {
      "needs_background": "light"
     },
     "output_type": "display_data"
    }
   ],
   "source": [
    "df.groupby('Region')['Product Sub Group'].value_counts().sort_values(ascending=False).head(15).\\\n",
    "plot(kind='bar',\n",
    "     title='Top 6 Region/Product by Sales',\n",
    "     ylabel='Sales')\n",
    "#after plotting the data, store the y-axis ticks\n",
    "current_values = plt.gca().get_yticks()\n",
    "#looping through y-axis ticks with format string '{:.0f}' to remove scientific notation\n",
    "plt.gca().set_yticklabels(['{:,.0f}'.format(x) for x in current_values])"
   ]
  },
  {
   "cell_type": "markdown",
   "id": "8c450b74",
   "metadata": {},
   "source": [
    "- Surprisingly Japan sees the second highest sales of Fresh Vegetables which are the most profitable category, however Japan is only the 3rd most profitabe region."
   ]
  },
  {
   "cell_type": "markdown",
   "id": "c7407ad4",
   "metadata": {},
   "source": [
    "#### Cost vs Margin relationship"
   ]
  },
  {
   "cell_type": "code",
   "execution_count": 480,
   "id": "c1369772",
   "metadata": {},
   "outputs": [
    {
     "data": {
      "text/plain": [
       "<matplotlib.patches.Polygon at 0x14a93c160>"
      ]
     },
     "execution_count": 480,
     "metadata": {},
     "output_type": "execute_result"
    },
    {
     "data": {
      "image/png": "[encoded data removed]",
      "text/plain": [
       "<Figure size 432x288 with 1 Axes>"
      ]
     },
     "metadata": {
      "needs_background": "light"
     },
     "output_type": "display_data"
    }
   ],
   "source": [
    "df[[\"Cost\",\"Margin\"]].sort_values(by='Margin').\\\n",
    "plot(kind='scatter',\n",
    "     x='Margin',y='Cost',\n",
    "     title='Sales Cost vs Profitability Relationship')\n",
    "plt.grid()\n",
    "\n",
    "#cluster 1 - orange\n",
    "plt.axvspan(0, 50000, ymin = 0.19, ymax = 0.37, color='orange', alpha=0.2)\n",
    "plt.axvspan(50000, 100000, ymin = 0.31, ymax = 0.5, color='orange', alpha=0.2)\n",
    "plt.axvspan(100000, 150000, ymin = 0.43, ymax = 0.6, color='orange', alpha=0.2)\n",
    "\n",
    "#cluster 2 - green\n",
    "plt.axvspan(125000, 205000, ymin = 0.8, ymax = 1, color='green', alpha=0.2)"
   ]
  },
  {
   "cell_type": "markdown",
   "id": "db1b9290",
   "metadata": {},
   "source": [
    "From the above we ascertain 2 key insights\n",
    "\n",
    "Cluster Orange - Medium cost-Medium profitability:\n",
    "- Medium cost items delivering medium profitability with low cocentration of datapoints\n",
    "- Recommends looking for ways to increase the volume/datapoints of these items\n",
    "\n",
    "Cluster Green - High cost-High profitability:\n",
    "- High cost items delivering very high profit margins even with a low concentration of datapoints\n",
    "- Recommends looking at increasing marketing to increase sales volume of these items"
   ]
  },
  {
   "cell_type": "markdown",
   "id": "e60ab932",
   "metadata": {},
   "source": [
    "    What is causing the green cluster?"
   ]
  },
  {
   "cell_type": "code",
   "execution_count": 478,
   "id": "239c2b9a",
   "metadata": {},
   "outputs": [
    {
     "data": {
      "text/plain": [
       "Item Desc\n",
       "High Top Dried Mushrooms    17\n",
       "dtype: int64"
      ]
     },
     "execution_count": 478,
     "metadata": {},
     "output_type": "execute_result"
    }
   ],
   "source": [
    "#item type causing green cluster\n",
    "df[df['Cost'] > 300000].value_counts('Item Desc')"
   ]
  },
  {
   "cell_type": "markdown",
   "id": "6b0e1f21",
   "metadata": {},
   "source": [
    "# *Top 3 Actionable Insights:*"
   ]
  },
  {
   "cell_type": "markdown",
   "id": "8af2aa52",
   "metadata": {},
   "source": [
    "1. Investigate strategies to increase sales volumes of the highly profitable 'High Top Dried Mushrooms'"
   ]
  },
  {
   "cell_type": "markdown",
   "id": "53717432",
   "metadata": {},
   "source": [
    " "
   ]
  },
  {
   "cell_type": "markdown",
   "id": "878bfe52",
   "metadata": {},
   "source": [
    "2. Investigate strategies to increase sales volume in the UK region as the UK is a highly profitable region but has relatively low sales volume. This could be an opportunity for the business which may overtake USA in the position of profitability if the current profit/volume ratio of the UK remains true"
   ]
  },
  {
   "cell_type": "markdown",
   "id": "68c6a443",
   "metadata": {},
   "source": [
    " "
   ]
  },
  {
   "cell_type": "markdown",
   "id": "c46e4089",
   "metadata": {},
   "source": [
    "3. Investigate strategies to increase sales volume of products in the sweet spot at 0-2500 qty and 50,000-120,000 margin as the datapoints in this area are already very high performers in terms of delivering profit per qty"
   ]
  },
  {
   "cell_type": "code",
   "execution_count": null,
   "id": "3a1485e8",
   "metadata": {},
   "outputs": [],
   "source": []
  }
 ],
 "metadata": {
  "kernelspec": {
   "display_name": "Python 3 (ipykernel)",
   "language": "python",
   "name": "python3"
  },
  "language_info": {
   "codemirror_mode": {
    "name": "ipython",
    "version": 3
   },
   "file_extension": ".py",
   "mimetype": "text/x-python",
   "name": "python",
   "nbconvert_exporter": "python",
   "pygments_lexer": "ipython3",
   "version": "3.9.13"
  }
 },
 "nbformat": 4,
 "nbformat_minor": 5
}
